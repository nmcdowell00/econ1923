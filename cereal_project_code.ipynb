{
 "cells": [
  {
   "cell_type": "code",
   "execution_count": 893,
   "id": "e035de30-7953-43ef-91f9-02804debc724",
   "metadata": {},
   "outputs": [],
   "source": [
    "import os\n",
    "import pandas as pd\n",
    "import requests, json"
   ]
  },
  {
   "cell_type": "code",
   "execution_count": 894,
   "id": "17710de4-693d-4eab-9e80-83d343fdc286",
   "metadata": {},
   "outputs": [],
   "source": [
    "#Whole foods UPCS from econ_1923 GitHub\n",
    "GE_WF_UPCSs = [\"16000124790\", \"16000122543\", \"16000125063\", \"16000123991\", \"16000487727\", \"30000060834\", \"16000124950\", \"16000125933\", \"16000275157\", \"16000124998\", \"16000487949\", \"30000063224\", \"884912004710\", \"16000487932\", \"884912014269\", \"30000063545\", \"884912129659\", \"16000103719\", \"38000199240\", \"16000163461\", \"38000198717\", \"884912111715\", \"884912249265\", \"16000126855\", \"884912126115\", \"16000120259\", \"884912002372\", \"38000200458\", \"16000163614\", \"30000064306\", \"884912102102\", \"16000152335\", \"884912116505\", \"16000275638\", \"43000129715\", \"16000157811\", \"38000787041\", \"16000121836\", \"21908455563\", \"43000129517\", \"884912126016\", \"16000163669\", \"30000061534\", \"30034019082\", \"884912249272\", \"13562002474\", \"884912117625\", \"43000014271\", \"884912114600\", \"38000200663\"]"
   ]
  },
  {
   "cell_type": "code",
   "execution_count": 895,
   "id": "809eefb3-d69b-430d-a6a4-966f96a949f0",
   "metadata": {},
   "outputs": [],
   "source": [
    "GE_shelf = GE_WF_UPCSs"
   ]
  },
  {
   "cell_type": "code",
   "execution_count": 896,
   "id": "05138365-f3ae-4148-be2f-b0755e696bfa",
   "metadata": {},
   "outputs": [
    {
     "data": {
      "text/plain": [
       "<Figure size 432x288 with 0 Axes>"
      ]
     },
     "metadata": {},
     "output_type": "display_data"
    }
   ],
   "source": [
    "%run APIkeys.py"
   ]
  },
  {
   "cell_type": "markdown",
   "id": "5dd073a7-bce2-4eae-ba18-19619f32983c",
   "metadata": {},
   "source": [
    "# UPC Processing Funcitons"
   ]
  },
  {
   "cell_type": "code",
   "execution_count": 897,
   "id": "71ec81aa-cdcb-4595-8afa-fb951cf05fcf",
   "metadata": {},
   "outputs": [],
   "source": [
    "def checkUPC_V2(upc):\n",
    "    app_id = os.environ['EDAMAM_API_id']\n",
    "    key = os.environ['EDAMAM_API_key']\n",
    "    baseURL = 'https://api.edamam.com/api/food-database/v2/parser?app_id='+app_id+'&app_key='+key+'&upc='\n",
    "    endURL = '&nutrition-type=cooking&category=packaged-foods'\n",
    "    url = baseURL + upc + endURL\n",
    "    info = requests.get(url).json()\n",
    "    if 'error' in info:\n",
    "        return info\n",
    "    else:\n",
    "        answer = info['hints'][0]['food']['nutrients']\n",
    "        \n",
    "        sizeList = info['hints'][0]['food']['servingSizes']\n",
    "        n = len(sizeList)\n",
    "        for i in range(n):\n",
    "            if sizeList[i]['label'] == 'Gram':\n",
    "                answer['servingSize_gram'] = info['hints'][0]['food']['servingSizes'][i]['quantity']\n",
    "            if sizeList[i]['label'] == 'Cup':\n",
    "                answer['servingSize_cup'] = info['hints'][0]['food']['servingSizes'][i]['quantity']\n",
    "        \n",
    "        answer['label'] = info['hints'][0]['food']['label']\n",
    "        answer['upc'] = upc\n",
    "        return answer"
   ]
  },
  {
   "cell_type": "code",
   "execution_count": 898,
   "id": "3cd76a25-0cc2-4cb9-ae91-f7aef96f7749",
   "metadata": {},
   "outputs": [],
   "source": [
    "def run_shelf(shelf, verbose = False, leftovers = False, source=\"\"):\n",
    "    \n",
    "    # Shelf - a list of strings, each representing a UPC code\n",
    "    # verbose - boolean telling the function whether to print found/unfound UPCs\n",
    "    # leftovers - boolean telling the function whetehr to output the \n",
    "    \n",
    "    found = []    #container for information on found UPCS\n",
    "    unfound = []  #container for unfound UPCs\n",
    "    \n",
    "    # loop over UPCs in shelf\n",
    "    for upc in shelf:\n",
    "        info = checkUPC_V2(upc)\n",
    "        \n",
    "        if 'error' in info:\n",
    "            unfound.append(upc) #add to the unfound container\n",
    "            if verbose:\n",
    "                print('UPC ',upc, ' does not exist in the API\\'s data base')\n",
    "        \n",
    "        else:\n",
    "            if verbose:\n",
    "                print('UPC ',upc, ' exists in the API\\'s data base')\n",
    "            found.append(info)\n",
    "    \n",
    "    # turn the dictionary found into aDataframe\n",
    "    if len(found)>0:\n",
    "        df_found = pd.DataFrame(found)\n",
    "    else:\n",
    "        df_found = pd.DataFrame()\n",
    "    \n",
    "    # add a source column\n",
    "    df_found[\"dataSource\"] = pd.Series([source for i in range(len(df_found.index))])\n",
    "    \n",
    "    \n",
    "    # return the values of found and unfound (optional)\n",
    "    if leftovers:\n",
    "        return df_found.head(),unfound\n",
    "    else:\n",
    "        return df_found.head()"
   ]
  },
  {
   "cell_type": "code",
   "execution_count": 899,
   "id": "14235781-f324-468b-919d-b7e365f2a917",
   "metadata": {},
   "outputs": [
    {
     "name": "stdout",
     "output_type": "stream",
     "text": [
      "There are 77 rows and 16 columns\n"
     ]
    }
   ],
   "source": [
    "# reading in Kaggle data from GitHub\n",
    "df1 = pd.read_csv('/Users/natemcdowell/Desktop/edamamAPI_project/cereal_kaggle.csv', delimiter=',')\n",
    "df1.dataframeName = 'cereal.csv'\n",
    "nRow, nCol = df1.shape\n",
    "print(f'There are {nRow} rows and {nCol} columns')"
   ]
  },
  {
   "cell_type": "code",
   "execution_count": 900,
   "id": "03686499-4928-4dde-a0fa-a2e998958cf8",
   "metadata": {},
   "outputs": [
    {
     "data": {
      "text/html": [
       "<div>\n",
       "<style scoped>\n",
       "    .dataframe tbody tr th:only-of-type {\n",
       "        vertical-align: middle;\n",
       "    }\n",
       "\n",
       "    .dataframe tbody tr th {\n",
       "        vertical-align: top;\n",
       "    }\n",
       "\n",
       "    .dataframe thead th {\n",
       "        text-align: right;\n",
       "    }\n",
       "</style>\n",
       "<table border=\"1\" class=\"dataframe\">\n",
       "  <thead>\n",
       "    <tr style=\"text-align: right;\">\n",
       "      <th></th>\n",
       "      <th>name</th>\n",
       "      <th>mfr</th>\n",
       "      <th>type</th>\n",
       "      <th>calories</th>\n",
       "      <th>protein</th>\n",
       "      <th>fat</th>\n",
       "      <th>sodium</th>\n",
       "      <th>fiber</th>\n",
       "      <th>carbo</th>\n",
       "      <th>sugars</th>\n",
       "      <th>potass</th>\n",
       "      <th>vitamins</th>\n",
       "      <th>shelf</th>\n",
       "      <th>weight</th>\n",
       "      <th>cups</th>\n",
       "      <th>rating</th>\n",
       "    </tr>\n",
       "  </thead>\n",
       "  <tbody>\n",
       "    <tr>\n",
       "      <th>0</th>\n",
       "      <td>100% Bran</td>\n",
       "      <td>N</td>\n",
       "      <td>C</td>\n",
       "      <td>70</td>\n",
       "      <td>4</td>\n",
       "      <td>1</td>\n",
       "      <td>130</td>\n",
       "      <td>10.0</td>\n",
       "      <td>5.0</td>\n",
       "      <td>6</td>\n",
       "      <td>280</td>\n",
       "      <td>25</td>\n",
       "      <td>3</td>\n",
       "      <td>1.0</td>\n",
       "      <td>0.33</td>\n",
       "      <td>68.402973</td>\n",
       "    </tr>\n",
       "    <tr>\n",
       "      <th>1</th>\n",
       "      <td>100% Natural Bran</td>\n",
       "      <td>Q</td>\n",
       "      <td>C</td>\n",
       "      <td>120</td>\n",
       "      <td>3</td>\n",
       "      <td>5</td>\n",
       "      <td>15</td>\n",
       "      <td>2.0</td>\n",
       "      <td>8.0</td>\n",
       "      <td>8</td>\n",
       "      <td>135</td>\n",
       "      <td>0</td>\n",
       "      <td>3</td>\n",
       "      <td>1.0</td>\n",
       "      <td>1.00</td>\n",
       "      <td>33.983679</td>\n",
       "    </tr>\n",
       "    <tr>\n",
       "      <th>2</th>\n",
       "      <td>All-Bran</td>\n",
       "      <td>K</td>\n",
       "      <td>C</td>\n",
       "      <td>70</td>\n",
       "      <td>4</td>\n",
       "      <td>1</td>\n",
       "      <td>260</td>\n",
       "      <td>9.0</td>\n",
       "      <td>7.0</td>\n",
       "      <td>5</td>\n",
       "      <td>320</td>\n",
       "      <td>25</td>\n",
       "      <td>3</td>\n",
       "      <td>1.0</td>\n",
       "      <td>0.33</td>\n",
       "      <td>59.425505</td>\n",
       "    </tr>\n",
       "    <tr>\n",
       "      <th>3</th>\n",
       "      <td>All-Bran with Extra Fiber</td>\n",
       "      <td>K</td>\n",
       "      <td>C</td>\n",
       "      <td>50</td>\n",
       "      <td>4</td>\n",
       "      <td>0</td>\n",
       "      <td>140</td>\n",
       "      <td>14.0</td>\n",
       "      <td>8.0</td>\n",
       "      <td>0</td>\n",
       "      <td>330</td>\n",
       "      <td>25</td>\n",
       "      <td>3</td>\n",
       "      <td>1.0</td>\n",
       "      <td>0.50</td>\n",
       "      <td>93.704912</td>\n",
       "    </tr>\n",
       "    <tr>\n",
       "      <th>4</th>\n",
       "      <td>Almond Delight</td>\n",
       "      <td>R</td>\n",
       "      <td>C</td>\n",
       "      <td>110</td>\n",
       "      <td>2</td>\n",
       "      <td>2</td>\n",
       "      <td>200</td>\n",
       "      <td>1.0</td>\n",
       "      <td>14.0</td>\n",
       "      <td>8</td>\n",
       "      <td>-1</td>\n",
       "      <td>25</td>\n",
       "      <td>3</td>\n",
       "      <td>1.0</td>\n",
       "      <td>0.75</td>\n",
       "      <td>34.384843</td>\n",
       "    </tr>\n",
       "    <tr>\n",
       "      <th>...</th>\n",
       "      <td>...</td>\n",
       "      <td>...</td>\n",
       "      <td>...</td>\n",
       "      <td>...</td>\n",
       "      <td>...</td>\n",
       "      <td>...</td>\n",
       "      <td>...</td>\n",
       "      <td>...</td>\n",
       "      <td>...</td>\n",
       "      <td>...</td>\n",
       "      <td>...</td>\n",
       "      <td>...</td>\n",
       "      <td>...</td>\n",
       "      <td>...</td>\n",
       "      <td>...</td>\n",
       "      <td>...</td>\n",
       "    </tr>\n",
       "    <tr>\n",
       "      <th>72</th>\n",
       "      <td>Triples</td>\n",
       "      <td>G</td>\n",
       "      <td>C</td>\n",
       "      <td>110</td>\n",
       "      <td>2</td>\n",
       "      <td>1</td>\n",
       "      <td>250</td>\n",
       "      <td>0.0</td>\n",
       "      <td>21.0</td>\n",
       "      <td>3</td>\n",
       "      <td>60</td>\n",
       "      <td>25</td>\n",
       "      <td>3</td>\n",
       "      <td>1.0</td>\n",
       "      <td>0.75</td>\n",
       "      <td>39.106174</td>\n",
       "    </tr>\n",
       "    <tr>\n",
       "      <th>73</th>\n",
       "      <td>Trix</td>\n",
       "      <td>G</td>\n",
       "      <td>C</td>\n",
       "      <td>110</td>\n",
       "      <td>1</td>\n",
       "      <td>1</td>\n",
       "      <td>140</td>\n",
       "      <td>0.0</td>\n",
       "      <td>13.0</td>\n",
       "      <td>12</td>\n",
       "      <td>25</td>\n",
       "      <td>25</td>\n",
       "      <td>2</td>\n",
       "      <td>1.0</td>\n",
       "      <td>1.00</td>\n",
       "      <td>27.753301</td>\n",
       "    </tr>\n",
       "    <tr>\n",
       "      <th>74</th>\n",
       "      <td>Wheat Chex</td>\n",
       "      <td>R</td>\n",
       "      <td>C</td>\n",
       "      <td>100</td>\n",
       "      <td>3</td>\n",
       "      <td>1</td>\n",
       "      <td>230</td>\n",
       "      <td>3.0</td>\n",
       "      <td>17.0</td>\n",
       "      <td>3</td>\n",
       "      <td>115</td>\n",
       "      <td>25</td>\n",
       "      <td>1</td>\n",
       "      <td>1.0</td>\n",
       "      <td>0.67</td>\n",
       "      <td>49.787445</td>\n",
       "    </tr>\n",
       "    <tr>\n",
       "      <th>75</th>\n",
       "      <td>Wheaties</td>\n",
       "      <td>G</td>\n",
       "      <td>C</td>\n",
       "      <td>100</td>\n",
       "      <td>3</td>\n",
       "      <td>1</td>\n",
       "      <td>200</td>\n",
       "      <td>3.0</td>\n",
       "      <td>17.0</td>\n",
       "      <td>3</td>\n",
       "      <td>110</td>\n",
       "      <td>25</td>\n",
       "      <td>1</td>\n",
       "      <td>1.0</td>\n",
       "      <td>1.00</td>\n",
       "      <td>51.592193</td>\n",
       "    </tr>\n",
       "    <tr>\n",
       "      <th>76</th>\n",
       "      <td>Wheaties Honey Gold</td>\n",
       "      <td>G</td>\n",
       "      <td>C</td>\n",
       "      <td>110</td>\n",
       "      <td>2</td>\n",
       "      <td>1</td>\n",
       "      <td>200</td>\n",
       "      <td>1.0</td>\n",
       "      <td>16.0</td>\n",
       "      <td>8</td>\n",
       "      <td>60</td>\n",
       "      <td>25</td>\n",
       "      <td>1</td>\n",
       "      <td>1.0</td>\n",
       "      <td>0.75</td>\n",
       "      <td>36.187559</td>\n",
       "    </tr>\n",
       "  </tbody>\n",
       "</table>\n",
       "<p>77 rows × 16 columns</p>\n",
       "</div>"
      ],
      "text/plain": [
       "                         name mfr type  calories  protein  fat  sodium  fiber  \\\n",
       "0                   100% Bran   N    C        70        4    1     130   10.0   \n",
       "1           100% Natural Bran   Q    C       120        3    5      15    2.0   \n",
       "2                    All-Bran   K    C        70        4    1     260    9.0   \n",
       "3   All-Bran with Extra Fiber   K    C        50        4    0     140   14.0   \n",
       "4              Almond Delight   R    C       110        2    2     200    1.0   \n",
       "..                        ...  ..  ...       ...      ...  ...     ...    ...   \n",
       "72                    Triples   G    C       110        2    1     250    0.0   \n",
       "73                       Trix   G    C       110        1    1     140    0.0   \n",
       "74                 Wheat Chex   R    C       100        3    1     230    3.0   \n",
       "75                   Wheaties   G    C       100        3    1     200    3.0   \n",
       "76        Wheaties Honey Gold   G    C       110        2    1     200    1.0   \n",
       "\n",
       "    carbo  sugars  potass  vitamins  shelf  weight  cups     rating  \n",
       "0     5.0       6     280        25      3     1.0  0.33  68.402973  \n",
       "1     8.0       8     135         0      3     1.0  1.00  33.983679  \n",
       "2     7.0       5     320        25      3     1.0  0.33  59.425505  \n",
       "3     8.0       0     330        25      3     1.0  0.50  93.704912  \n",
       "4    14.0       8      -1        25      3     1.0  0.75  34.384843  \n",
       "..    ...     ...     ...       ...    ...     ...   ...        ...  \n",
       "72   21.0       3      60        25      3     1.0  0.75  39.106174  \n",
       "73   13.0      12      25        25      2     1.0  1.00  27.753301  \n",
       "74   17.0       3     115        25      1     1.0  0.67  49.787445  \n",
       "75   17.0       3     110        25      1     1.0  1.00  51.592193  \n",
       "76   16.0       8      60        25      1     1.0  0.75  36.187559  \n",
       "\n",
       "[77 rows x 16 columns]"
      ]
     },
     "execution_count": 900,
     "metadata": {},
     "output_type": "execute_result"
    }
   ],
   "source": [
    "df1"
   ]
  },
  {
   "cell_type": "code",
   "execution_count": 863,
   "id": "68be27ab-fb61-404a-8762-dd182977b135",
   "metadata": {},
   "outputs": [],
   "source": [
    "#cleaning. \n",
    "df1 = df1.loc[df1[\"type\"] !='H'] # there were 3 instances of type = 'H' so I dropped to avoid confusion\n",
    "df1 = df1.drop(columns = {'mfr','type','rating',\"weight\",\"shelf\"}) # drop unnecessary\n",
    "df1['source'] = 'kaggle'"
   ]
  },
  {
   "cell_type": "code",
   "execution_count": 864,
   "id": "9e28ece0-f498-4746-bd9f-a230ea280b56",
   "metadata": {},
   "outputs": [],
   "source": [
    "df2 = run_shelf(GE_shelf)"
   ]
  },
  {
   "cell_type": "code",
   "execution_count": 865,
   "id": "9268b506-4d77-455e-ae9b-b786b7ced745",
   "metadata": {},
   "outputs": [],
   "source": [
    "df2 = df2.rename(columns = {\"label\":\"name\",\n",
    "                           \"SUGAR\":\"sugars\",\n",
    "                           \"FAT\":\"fat\",\n",
    "                           \"FIBTG\":\"fiber\",\n",
    "                            \"ENERC_KCAL\":\"calorie\",\n",
    "                            \"PROCNT\":\"protein\",\n",
    "                            \"K\":\"potass\",\n",
    "                            \"NA\":\"sodium\",\n",
    "                            \"CHOCDF\":\"carbo\",\n",
    "                            \"servingSize_cup\":\"cups\"\n",
    "                           })\n",
    "df2['source'] = 'edamam, whole foods'"
   ]
  },
  {
   "cell_type": "code",
   "execution_count": 866,
   "id": "af9fe8b3-7dad-4848-9536-27ad17610502",
   "metadata": {},
   "outputs": [],
   "source": [
    "df2 = df2[[\"name\",\n",
    "         \"sugars\",\n",
    "         \"fat\",\n",
    "         \"fiber\",\n",
    "         \"calorie\",\n",
    "          \"protein\",\n",
    "          \"potass\",\n",
    "          \"sodium\",\n",
    "          \"carbo\",\n",
    "          \"cups\",\n",
    "           \"source\"\n",
    "          ]]"
   ]
  },
  {
   "cell_type": "code",
   "execution_count": 867,
   "id": "e75533bc-e938-45ba-88b9-39d647a3932d",
   "metadata": {},
   "outputs": [],
   "source": [
    "df1.head()\n",
    "df2= df2[[\"name\",\"calorie\",\"protein\",\"fat\",\"sodium\",\"fiber\",\"carbo\",\"sugars\",\"potass\",\"cups\", \"source\"]]\n",
    "df1 = df1.drop(columns = {\"vitamins\"})"
   ]
  },
  {
   "cell_type": "code",
   "execution_count": 868,
   "id": "62f23494-7845-49f1-91ee-82e5c0fbf75d",
   "metadata": {},
   "outputs": [
    {
     "data": {
      "text/html": [
       "<div>\n",
       "<style scoped>\n",
       "    .dataframe tbody tr th:only-of-type {\n",
       "        vertical-align: middle;\n",
       "    }\n",
       "\n",
       "    .dataframe tbody tr th {\n",
       "        vertical-align: top;\n",
       "    }\n",
       "\n",
       "    .dataframe thead th {\n",
       "        text-align: right;\n",
       "    }\n",
       "</style>\n",
       "<table border=\"1\" class=\"dataframe\">\n",
       "  <thead>\n",
       "    <tr style=\"text-align: right;\">\n",
       "      <th></th>\n",
       "      <th>name</th>\n",
       "      <th>calorie</th>\n",
       "      <th>protein</th>\n",
       "      <th>fat</th>\n",
       "      <th>sodium</th>\n",
       "      <th>fiber</th>\n",
       "      <th>carbo</th>\n",
       "      <th>sugars</th>\n",
       "      <th>potass</th>\n",
       "      <th>cups</th>\n",
       "      <th>source</th>\n",
       "    </tr>\n",
       "  </thead>\n",
       "  <tbody>\n",
       "    <tr>\n",
       "      <th>0</th>\n",
       "      <td>Honey Nut Cheerios</td>\n",
       "      <td>393.000000</td>\n",
       "      <td>7.140000</td>\n",
       "      <td>5.360000</td>\n",
       "      <td>571.00000</td>\n",
       "      <td>7.100000</td>\n",
       "      <td>78.570000</td>\n",
       "      <td>32.139999</td>\n",
       "      <td>411.000000</td>\n",
       "      <td>0.75</td>\n",
       "      <td>edamam, whole foods</td>\n",
       "    </tr>\n",
       "    <tr>\n",
       "      <th>1</th>\n",
       "      <td>Cinnamon Toast Crunch Cereal</td>\n",
       "      <td>419.000000</td>\n",
       "      <td>3.230000</td>\n",
       "      <td>9.680000</td>\n",
       "      <td>581.00000</td>\n",
       "      <td>6.500000</td>\n",
       "      <td>80.650002</td>\n",
       "      <td>29.030001</td>\n",
       "      <td>177.000000</td>\n",
       "      <td>0.75</td>\n",
       "      <td>edamam, whole foods</td>\n",
       "    </tr>\n",
       "    <tr>\n",
       "      <th>2</th>\n",
       "      <td>Honey Nut Cheerios</td>\n",
       "      <td>393.000000</td>\n",
       "      <td>7.140000</td>\n",
       "      <td>5.360000</td>\n",
       "      <td>571.00000</td>\n",
       "      <td>7.100000</td>\n",
       "      <td>78.570000</td>\n",
       "      <td>32.139999</td>\n",
       "      <td>411.000000</td>\n",
       "      <td>0.75</td>\n",
       "      <td>edamam, whole foods</td>\n",
       "    </tr>\n",
       "    <tr>\n",
       "      <th>3</th>\n",
       "      <td>Lucky Charms Cereal Frosted Toasted Oat, With ...</td>\n",
       "      <td>407.407407</td>\n",
       "      <td>7.407407</td>\n",
       "      <td>3.703704</td>\n",
       "      <td>629.62963</td>\n",
       "      <td>7.407407</td>\n",
       "      <td>81.481481</td>\n",
       "      <td>37.037037</td>\n",
       "      <td>185.185185</td>\n",
       "      <td>0.75</td>\n",
       "      <td>edamam, whole foods</td>\n",
       "    </tr>\n",
       "    <tr>\n",
       "      <th>4</th>\n",
       "      <td>Cheerios Cereal</td>\n",
       "      <td>357.000000</td>\n",
       "      <td>10.710000</td>\n",
       "      <td>7.140000</td>\n",
       "      <td>500.00000</td>\n",
       "      <td>10.700000</td>\n",
       "      <td>71.430000</td>\n",
       "      <td>3.570000</td>\n",
       "      <td>643.000000</td>\n",
       "      <td>1.00</td>\n",
       "      <td>edamam, whole foods</td>\n",
       "    </tr>\n",
       "  </tbody>\n",
       "</table>\n",
       "</div>"
      ],
      "text/plain": [
       "                                                name     calorie    protein  \\\n",
       "0                                 Honey Nut Cheerios  393.000000   7.140000   \n",
       "1                       Cinnamon Toast Crunch Cereal  419.000000   3.230000   \n",
       "2                                 Honey Nut Cheerios  393.000000   7.140000   \n",
       "3  Lucky Charms Cereal Frosted Toasted Oat, With ...  407.407407   7.407407   \n",
       "4                                    Cheerios Cereal  357.000000  10.710000   \n",
       "\n",
       "        fat     sodium      fiber      carbo     sugars      potass  cups  \\\n",
       "0  5.360000  571.00000   7.100000  78.570000  32.139999  411.000000  0.75   \n",
       "1  9.680000  581.00000   6.500000  80.650002  29.030001  177.000000  0.75   \n",
       "2  5.360000  571.00000   7.100000  78.570000  32.139999  411.000000  0.75   \n",
       "3  3.703704  629.62963   7.407407  81.481481  37.037037  185.185185  0.75   \n",
       "4  7.140000  500.00000  10.700000  71.430000   3.570000  643.000000  1.00   \n",
       "\n",
       "                source  \n",
       "0  edamam, whole foods  \n",
       "1  edamam, whole foods  \n",
       "2  edamam, whole foods  \n",
       "3  edamam, whole foods  \n",
       "4  edamam, whole foods  "
      ]
     },
     "execution_count": 868,
     "metadata": {},
     "output_type": "execute_result"
    }
   ],
   "source": [
    "df2.head()"
   ]
  },
  {
   "cell_type": "code",
   "execution_count": 869,
   "id": "4eec9e28-cc0b-4ef5-b26d-888e28ecdfad",
   "metadata": {},
   "outputs": [
    {
     "data": {
      "text/html": [
       "<div>\n",
       "<style scoped>\n",
       "    .dataframe tbody tr th:only-of-type {\n",
       "        vertical-align: middle;\n",
       "    }\n",
       "\n",
       "    .dataframe tbody tr th {\n",
       "        vertical-align: top;\n",
       "    }\n",
       "\n",
       "    .dataframe thead th {\n",
       "        text-align: right;\n",
       "    }\n",
       "</style>\n",
       "<table border=\"1\" class=\"dataframe\">\n",
       "  <thead>\n",
       "    <tr style=\"text-align: right;\">\n",
       "      <th></th>\n",
       "      <th>name</th>\n",
       "      <th>calorie</th>\n",
       "      <th>protein</th>\n",
       "      <th>fat</th>\n",
       "      <th>sodium</th>\n",
       "      <th>fiber</th>\n",
       "      <th>carbo</th>\n",
       "      <th>sugars</th>\n",
       "      <th>potass</th>\n",
       "      <th>cups</th>\n",
       "      <th>source</th>\n",
       "    </tr>\n",
       "  </thead>\n",
       "  <tbody>\n",
       "    <tr>\n",
       "      <th>0</th>\n",
       "      <td>100% Bran</td>\n",
       "      <td>70</td>\n",
       "      <td>4</td>\n",
       "      <td>1</td>\n",
       "      <td>130</td>\n",
       "      <td>10.0</td>\n",
       "      <td>5.0</td>\n",
       "      <td>6</td>\n",
       "      <td>280</td>\n",
       "      <td>0.33</td>\n",
       "      <td>kaggle</td>\n",
       "    </tr>\n",
       "    <tr>\n",
       "      <th>1</th>\n",
       "      <td>100% Natural Bran</td>\n",
       "      <td>120</td>\n",
       "      <td>3</td>\n",
       "      <td>5</td>\n",
       "      <td>15</td>\n",
       "      <td>2.0</td>\n",
       "      <td>8.0</td>\n",
       "      <td>8</td>\n",
       "      <td>135</td>\n",
       "      <td>1.00</td>\n",
       "      <td>kaggle</td>\n",
       "    </tr>\n",
       "    <tr>\n",
       "      <th>2</th>\n",
       "      <td>All-Bran</td>\n",
       "      <td>70</td>\n",
       "      <td>4</td>\n",
       "      <td>1</td>\n",
       "      <td>260</td>\n",
       "      <td>9.0</td>\n",
       "      <td>7.0</td>\n",
       "      <td>5</td>\n",
       "      <td>320</td>\n",
       "      <td>0.33</td>\n",
       "      <td>kaggle</td>\n",
       "    </tr>\n",
       "    <tr>\n",
       "      <th>3</th>\n",
       "      <td>All-Bran with Extra Fiber</td>\n",
       "      <td>50</td>\n",
       "      <td>4</td>\n",
       "      <td>0</td>\n",
       "      <td>140</td>\n",
       "      <td>14.0</td>\n",
       "      <td>8.0</td>\n",
       "      <td>0</td>\n",
       "      <td>330</td>\n",
       "      <td>0.50</td>\n",
       "      <td>kaggle</td>\n",
       "    </tr>\n",
       "    <tr>\n",
       "      <th>4</th>\n",
       "      <td>Almond Delight</td>\n",
       "      <td>110</td>\n",
       "      <td>2</td>\n",
       "      <td>2</td>\n",
       "      <td>200</td>\n",
       "      <td>1.0</td>\n",
       "      <td>14.0</td>\n",
       "      <td>8</td>\n",
       "      <td>-1</td>\n",
       "      <td>0.75</td>\n",
       "      <td>kaggle</td>\n",
       "    </tr>\n",
       "    <tr>\n",
       "      <th>...</th>\n",
       "      <td>...</td>\n",
       "      <td>...</td>\n",
       "      <td>...</td>\n",
       "      <td>...</td>\n",
       "      <td>...</td>\n",
       "      <td>...</td>\n",
       "      <td>...</td>\n",
       "      <td>...</td>\n",
       "      <td>...</td>\n",
       "      <td>...</td>\n",
       "      <td>...</td>\n",
       "    </tr>\n",
       "    <tr>\n",
       "      <th>72</th>\n",
       "      <td>Triples</td>\n",
       "      <td>110</td>\n",
       "      <td>2</td>\n",
       "      <td>1</td>\n",
       "      <td>250</td>\n",
       "      <td>0.0</td>\n",
       "      <td>21.0</td>\n",
       "      <td>3</td>\n",
       "      <td>60</td>\n",
       "      <td>0.75</td>\n",
       "      <td>kaggle</td>\n",
       "    </tr>\n",
       "    <tr>\n",
       "      <th>73</th>\n",
       "      <td>Trix</td>\n",
       "      <td>110</td>\n",
       "      <td>1</td>\n",
       "      <td>1</td>\n",
       "      <td>140</td>\n",
       "      <td>0.0</td>\n",
       "      <td>13.0</td>\n",
       "      <td>12</td>\n",
       "      <td>25</td>\n",
       "      <td>1.00</td>\n",
       "      <td>kaggle</td>\n",
       "    </tr>\n",
       "    <tr>\n",
       "      <th>74</th>\n",
       "      <td>Wheat Chex</td>\n",
       "      <td>100</td>\n",
       "      <td>3</td>\n",
       "      <td>1</td>\n",
       "      <td>230</td>\n",
       "      <td>3.0</td>\n",
       "      <td>17.0</td>\n",
       "      <td>3</td>\n",
       "      <td>115</td>\n",
       "      <td>0.67</td>\n",
       "      <td>kaggle</td>\n",
       "    </tr>\n",
       "    <tr>\n",
       "      <th>75</th>\n",
       "      <td>Wheaties</td>\n",
       "      <td>100</td>\n",
       "      <td>3</td>\n",
       "      <td>1</td>\n",
       "      <td>200</td>\n",
       "      <td>3.0</td>\n",
       "      <td>17.0</td>\n",
       "      <td>3</td>\n",
       "      <td>110</td>\n",
       "      <td>1.00</td>\n",
       "      <td>kaggle</td>\n",
       "    </tr>\n",
       "    <tr>\n",
       "      <th>76</th>\n",
       "      <td>Wheaties Honey Gold</td>\n",
       "      <td>110</td>\n",
       "      <td>2</td>\n",
       "      <td>1</td>\n",
       "      <td>200</td>\n",
       "      <td>1.0</td>\n",
       "      <td>16.0</td>\n",
       "      <td>8</td>\n",
       "      <td>60</td>\n",
       "      <td>0.75</td>\n",
       "      <td>kaggle</td>\n",
       "    </tr>\n",
       "  </tbody>\n",
       "</table>\n",
       "<p>74 rows × 11 columns</p>\n",
       "</div>"
      ],
      "text/plain": [
       "                         name  calorie  protein  fat  sodium  fiber  carbo  \\\n",
       "0                   100% Bran       70        4    1     130   10.0    5.0   \n",
       "1           100% Natural Bran      120        3    5      15    2.0    8.0   \n",
       "2                    All-Bran       70        4    1     260    9.0    7.0   \n",
       "3   All-Bran with Extra Fiber       50        4    0     140   14.0    8.0   \n",
       "4              Almond Delight      110        2    2     200    1.0   14.0   \n",
       "..                        ...      ...      ...  ...     ...    ...    ...   \n",
       "72                    Triples      110        2    1     250    0.0   21.0   \n",
       "73                       Trix      110        1    1     140    0.0   13.0   \n",
       "74                 Wheat Chex      100        3    1     230    3.0   17.0   \n",
       "75                   Wheaties      100        3    1     200    3.0   17.0   \n",
       "76        Wheaties Honey Gold      110        2    1     200    1.0   16.0   \n",
       "\n",
       "    sugars  potass  cups  source  \n",
       "0        6     280  0.33  kaggle  \n",
       "1        8     135  1.00  kaggle  \n",
       "2        5     320  0.33  kaggle  \n",
       "3        0     330  0.50  kaggle  \n",
       "4        8      -1  0.75  kaggle  \n",
       "..     ...     ...   ...     ...  \n",
       "72       3      60  0.75  kaggle  \n",
       "73      12      25  1.00  kaggle  \n",
       "74       3     115  0.67  kaggle  \n",
       "75       3     110  1.00  kaggle  \n",
       "76       8      60  0.75  kaggle  \n",
       "\n",
       "[74 rows x 11 columns]"
      ]
     },
     "execution_count": 869,
     "metadata": {},
     "output_type": "execute_result"
    }
   ],
   "source": [
    "df1 = df1.rename(columns = {\"calories\":\"calorie\"})\n",
    "df1"
   ]
  },
  {
   "cell_type": "code",
   "execution_count": 870,
   "id": "0661579a-cb7f-4ef3-970a-b8ec736debe9",
   "metadata": {},
   "outputs": [],
   "source": [
    "frames = [df1,df2]"
   ]
  },
  {
   "cell_type": "code",
   "execution_count": 871,
   "id": "8f6039ab-f5ff-4991-86e3-bc8b706f209d",
   "metadata": {},
   "outputs": [],
   "source": [
    "result = pd.concat(frames)"
   ]
  },
  {
   "cell_type": "code",
   "execution_count": 872,
   "id": "a6f49505-b09c-49b5-b2da-0088f9827988",
   "metadata": {},
   "outputs": [
    {
     "data": {
      "text/html": [
       "<div>\n",
       "<style scoped>\n",
       "    .dataframe tbody tr th:only-of-type {\n",
       "        vertical-align: middle;\n",
       "    }\n",
       "\n",
       "    .dataframe tbody tr th {\n",
       "        vertical-align: top;\n",
       "    }\n",
       "\n",
       "    .dataframe thead th {\n",
       "        text-align: right;\n",
       "    }\n",
       "</style>\n",
       "<table border=\"1\" class=\"dataframe\">\n",
       "  <thead>\n",
       "    <tr style=\"text-align: right;\">\n",
       "      <th></th>\n",
       "      <th>name</th>\n",
       "      <th>calorie</th>\n",
       "      <th>protein</th>\n",
       "      <th>fat</th>\n",
       "      <th>sodium</th>\n",
       "      <th>fiber</th>\n",
       "      <th>carbo</th>\n",
       "      <th>sugars</th>\n",
       "      <th>potass</th>\n",
       "      <th>cups</th>\n",
       "      <th>source</th>\n",
       "    </tr>\n",
       "  </thead>\n",
       "  <tbody>\n",
       "    <tr>\n",
       "      <th>0</th>\n",
       "      <td>100% Bran</td>\n",
       "      <td>70.000000</td>\n",
       "      <td>4.000000</td>\n",
       "      <td>1.000000</td>\n",
       "      <td>130.00000</td>\n",
       "      <td>10.000000</td>\n",
       "      <td>5.000000</td>\n",
       "      <td>6.000000</td>\n",
       "      <td>280.000000</td>\n",
       "      <td>0.33</td>\n",
       "      <td>kaggle</td>\n",
       "    </tr>\n",
       "    <tr>\n",
       "      <th>1</th>\n",
       "      <td>100% Natural Bran</td>\n",
       "      <td>120.000000</td>\n",
       "      <td>3.000000</td>\n",
       "      <td>5.000000</td>\n",
       "      <td>15.00000</td>\n",
       "      <td>2.000000</td>\n",
       "      <td>8.000000</td>\n",
       "      <td>8.000000</td>\n",
       "      <td>135.000000</td>\n",
       "      <td>1.00</td>\n",
       "      <td>kaggle</td>\n",
       "    </tr>\n",
       "    <tr>\n",
       "      <th>2</th>\n",
       "      <td>All-Bran</td>\n",
       "      <td>70.000000</td>\n",
       "      <td>4.000000</td>\n",
       "      <td>1.000000</td>\n",
       "      <td>260.00000</td>\n",
       "      <td>9.000000</td>\n",
       "      <td>7.000000</td>\n",
       "      <td>5.000000</td>\n",
       "      <td>320.000000</td>\n",
       "      <td>0.33</td>\n",
       "      <td>kaggle</td>\n",
       "    </tr>\n",
       "    <tr>\n",
       "      <th>3</th>\n",
       "      <td>All-Bran with Extra Fiber</td>\n",
       "      <td>50.000000</td>\n",
       "      <td>4.000000</td>\n",
       "      <td>0.000000</td>\n",
       "      <td>140.00000</td>\n",
       "      <td>14.000000</td>\n",
       "      <td>8.000000</td>\n",
       "      <td>0.000000</td>\n",
       "      <td>330.000000</td>\n",
       "      <td>0.50</td>\n",
       "      <td>kaggle</td>\n",
       "    </tr>\n",
       "    <tr>\n",
       "      <th>4</th>\n",
       "      <td>Almond Delight</td>\n",
       "      <td>110.000000</td>\n",
       "      <td>2.000000</td>\n",
       "      <td>2.000000</td>\n",
       "      <td>200.00000</td>\n",
       "      <td>1.000000</td>\n",
       "      <td>14.000000</td>\n",
       "      <td>8.000000</td>\n",
       "      <td>-1.000000</td>\n",
       "      <td>0.75</td>\n",
       "      <td>kaggle</td>\n",
       "    </tr>\n",
       "    <tr>\n",
       "      <th>...</th>\n",
       "      <td>...</td>\n",
       "      <td>...</td>\n",
       "      <td>...</td>\n",
       "      <td>...</td>\n",
       "      <td>...</td>\n",
       "      <td>...</td>\n",
       "      <td>...</td>\n",
       "      <td>...</td>\n",
       "      <td>...</td>\n",
       "      <td>...</td>\n",
       "      <td>...</td>\n",
       "    </tr>\n",
       "    <tr>\n",
       "      <th>0</th>\n",
       "      <td>Honey Nut Cheerios</td>\n",
       "      <td>393.000000</td>\n",
       "      <td>7.140000</td>\n",
       "      <td>5.360000</td>\n",
       "      <td>571.00000</td>\n",
       "      <td>7.100000</td>\n",
       "      <td>78.570000</td>\n",
       "      <td>32.139999</td>\n",
       "      <td>411.000000</td>\n",
       "      <td>0.75</td>\n",
       "      <td>edamam, whole foods</td>\n",
       "    </tr>\n",
       "    <tr>\n",
       "      <th>1</th>\n",
       "      <td>Cinnamon Toast Crunch Cereal</td>\n",
       "      <td>419.000000</td>\n",
       "      <td>3.230000</td>\n",
       "      <td>9.680000</td>\n",
       "      <td>581.00000</td>\n",
       "      <td>6.500000</td>\n",
       "      <td>80.650002</td>\n",
       "      <td>29.030001</td>\n",
       "      <td>177.000000</td>\n",
       "      <td>0.75</td>\n",
       "      <td>edamam, whole foods</td>\n",
       "    </tr>\n",
       "    <tr>\n",
       "      <th>2</th>\n",
       "      <td>Honey Nut Cheerios</td>\n",
       "      <td>393.000000</td>\n",
       "      <td>7.140000</td>\n",
       "      <td>5.360000</td>\n",
       "      <td>571.00000</td>\n",
       "      <td>7.100000</td>\n",
       "      <td>78.570000</td>\n",
       "      <td>32.139999</td>\n",
       "      <td>411.000000</td>\n",
       "      <td>0.75</td>\n",
       "      <td>edamam, whole foods</td>\n",
       "    </tr>\n",
       "    <tr>\n",
       "      <th>3</th>\n",
       "      <td>Lucky Charms Cereal Frosted Toasted Oat, With ...</td>\n",
       "      <td>407.407407</td>\n",
       "      <td>7.407407</td>\n",
       "      <td>3.703704</td>\n",
       "      <td>629.62963</td>\n",
       "      <td>7.407407</td>\n",
       "      <td>81.481481</td>\n",
       "      <td>37.037037</td>\n",
       "      <td>185.185185</td>\n",
       "      <td>0.75</td>\n",
       "      <td>edamam, whole foods</td>\n",
       "    </tr>\n",
       "    <tr>\n",
       "      <th>4</th>\n",
       "      <td>Cheerios Cereal</td>\n",
       "      <td>357.000000</td>\n",
       "      <td>10.710000</td>\n",
       "      <td>7.140000</td>\n",
       "      <td>500.00000</td>\n",
       "      <td>10.700000</td>\n",
       "      <td>71.430000</td>\n",
       "      <td>3.570000</td>\n",
       "      <td>643.000000</td>\n",
       "      <td>1.00</td>\n",
       "      <td>edamam, whole foods</td>\n",
       "    </tr>\n",
       "  </tbody>\n",
       "</table>\n",
       "<p>79 rows × 11 columns</p>\n",
       "</div>"
      ],
      "text/plain": [
       "                                                 name     calorie    protein  \\\n",
       "0                                           100% Bran   70.000000   4.000000   \n",
       "1                                   100% Natural Bran  120.000000   3.000000   \n",
       "2                                            All-Bran   70.000000   4.000000   \n",
       "3                           All-Bran with Extra Fiber   50.000000   4.000000   \n",
       "4                                      Almond Delight  110.000000   2.000000   \n",
       "..                                                ...         ...        ...   \n",
       "0                                  Honey Nut Cheerios  393.000000   7.140000   \n",
       "1                        Cinnamon Toast Crunch Cereal  419.000000   3.230000   \n",
       "2                                  Honey Nut Cheerios  393.000000   7.140000   \n",
       "3   Lucky Charms Cereal Frosted Toasted Oat, With ...  407.407407   7.407407   \n",
       "4                                     Cheerios Cereal  357.000000  10.710000   \n",
       "\n",
       "         fat     sodium      fiber      carbo     sugars      potass  cups  \\\n",
       "0   1.000000  130.00000  10.000000   5.000000   6.000000  280.000000  0.33   \n",
       "1   5.000000   15.00000   2.000000   8.000000   8.000000  135.000000  1.00   \n",
       "2   1.000000  260.00000   9.000000   7.000000   5.000000  320.000000  0.33   \n",
       "3   0.000000  140.00000  14.000000   8.000000   0.000000  330.000000  0.50   \n",
       "4   2.000000  200.00000   1.000000  14.000000   8.000000   -1.000000  0.75   \n",
       "..       ...        ...        ...        ...        ...         ...   ...   \n",
       "0   5.360000  571.00000   7.100000  78.570000  32.139999  411.000000  0.75   \n",
       "1   9.680000  581.00000   6.500000  80.650002  29.030001  177.000000  0.75   \n",
       "2   5.360000  571.00000   7.100000  78.570000  32.139999  411.000000  0.75   \n",
       "3   3.703704  629.62963   7.407407  81.481481  37.037037  185.185185  0.75   \n",
       "4   7.140000  500.00000  10.700000  71.430000   3.570000  643.000000  1.00   \n",
       "\n",
       "                 source  \n",
       "0                kaggle  \n",
       "1                kaggle  \n",
       "2                kaggle  \n",
       "3                kaggle  \n",
       "4                kaggle  \n",
       "..                  ...  \n",
       "0   edamam, whole foods  \n",
       "1   edamam, whole foods  \n",
       "2   edamam, whole foods  \n",
       "3   edamam, whole foods  \n",
       "4   edamam, whole foods  \n",
       "\n",
       "[79 rows x 11 columns]"
      ]
     },
     "execution_count": 872,
     "metadata": {},
     "output_type": "execute_result"
    }
   ],
   "source": [
    "#merged dataframe\n",
    "result"
   ]
  },
  {
   "cell_type": "code",
   "execution_count": 873,
   "id": "5d270321-faaa-4fc2-a9d0-187fd990002a",
   "metadata": {},
   "outputs": [],
   "source": [
    "import seaborn as sns"
   ]
  },
  {
   "cell_type": "code",
   "execution_count": 874,
   "id": "dec12600-adf1-4e8e-89d4-08f7361781f9",
   "metadata": {},
   "outputs": [
    {
     "data": {
      "text/plain": [
       "<AxesSubplot:>"
      ]
     },
     "execution_count": 874,
     "metadata": {},
     "output_type": "execute_result"
    },
    {
     "data": {
      "image/png": "[encoded data removed]",
      "text/plain": [
       "<Figure size 432x288 with 1 Axes>"
      ]
     },
     "metadata": {},
     "output_type": "display_data"
    }
   ],
   "source": [
    "sns.heatmap(result.isnull(),yticklabels=False,cbar=False,cmap='viridis')"
   ]
  },
  {
   "cell_type": "code",
   "execution_count": 875,
   "id": "05131acd-7219-448b-a9a1-981d221704b6",
   "metadata": {},
   "outputs": [],
   "source": [
    "#set index to the name of the cereal\n",
    "result.index = result.name"
   ]
  },
  {
   "cell_type": "code",
   "execution_count": 876,
   "id": "1439c16c-9e66-4279-84c9-f7a7647ca85e",
   "metadata": {},
   "outputs": [],
   "source": [
    "df_num = result[[\"calorie\",\"protein\",\"fat\",\"sodium\",\"fiber\",\"carbo\",\"sugars\",\"potass\"]]"
   ]
  },
  {
   "cell_type": "code",
   "execution_count": 877,
   "id": "132fcf24-86c6-4c55-b574-55421924866b",
   "metadata": {},
   "outputs": [],
   "source": [
    "#drop all instances outside of 3 sd from mean(outliers)\n",
    "df_num =df_num[(np.abs(stats.zscore(df_num)) < 3).all(axis=1)]"
   ]
  },
  {
   "cell_type": "code",
   "execution_count": 878,
   "id": "64556bcc-528a-4d9b-a26d-339d04874b2d",
   "metadata": {},
   "outputs": [],
   "source": [
    "def  rescaleFeatures(df_in):\n",
    "    # This function rescale all the columns in dataframe df_in to be\n",
    "    # between 0 and 1. It returns the scaled dataframe as well as the\n",
    "    # lists of minimum and the maximum (so we can rescale back)\n",
    "\n",
    "    df_out = df_in # first, we make a copy of the original df\n",
    "    m = df_out.min() # a list of minimums for all columns in df_in\n",
    "    M = df_out.max() # a list of maximums for all columns in df_in\n",
    "    for i in range(len(df_out.columns)):\n",
    "        df_out.iloc[:,i] = (df_out.iloc[:,i] - m[i])/(M[i]-m[i])\n",
    "    \n",
    "    return df_num,m,M\n",
    "df_num,m,M = rescaleFeatures(df_num)"
   ]
  },
  {
   "cell_type": "markdown",
   "id": "57ed8ef7-fa45-40d3-adf3-319d42043028",
   "metadata": {},
   "source": [
    "# Descriptive Statistics"
   ]
  },
  {
   "cell_type": "code",
   "execution_count": 879,
   "id": "a3279a51-a615-437b-9561-fe6974e1b843",
   "metadata": {},
   "outputs": [
    {
     "data": {
      "image/png": "[encoded data removed]",
      "text/plain": [
       "<Figure size 432x288 with 1 Axes>"
      ]
     },
     "metadata": {
      "needs_background": "light"
     },
     "output_type": "display_data"
    },
    {
     "data": {
      "image/png": "[encoded data removed]",
      "text/plain": [
       "<Figure size 432x288 with 1 Axes>"
      ]
     },
     "metadata": {
      "needs_background": "light"
     },
     "output_type": "display_data"
    },
    {
     "name": "stdout",
     "output_type": "stream",
     "text": [
      "mean: 0.5267745952677462\n",
      "median: 0.5454545454545454\n",
      "min: 0.0\n",
      "max: 1.0\n",
      "stdev: 0.17072127555703534\n",
      "______________________________________________________________________\n",
      "\n"
     ]
    },
    {
     "data": {
      "image/png": "[encoded data removed]",
      "text/plain": [
       "<Figure size 432x288 with 1 Axes>"
      ]
     },
     "metadata": {
      "needs_background": "light"
     },
     "output_type": "display_data"
    },
    {
     "data": {
      "image/png": "[encoded data removed]",
      "text/plain": [
       "<Figure size 432x288 with 1 Axes>"
      ]
     },
     "metadata": {
      "needs_background": "light"
     },
     "output_type": "display_data"
    },
    {
     "name": "stdout",
     "output_type": "stream",
     "text": [
      "mean: 0.29315068493150664\n",
      "median: 0.2\n",
      "min: 0.0\n",
      "max: 1.0\n",
      "stdev: 0.21103499388811714\n",
      "______________________________________________________________________\n",
      "\n"
     ]
    },
    {
     "data": {
      "image/png": "[encoded data removed]",
      "text/plain": [
       "<Figure size 432x288 with 1 Axes>"
      ]
     },
     "metadata": {
      "needs_background": "light"
     },
     "output_type": "display_data"
    },
    {
     "data": {
      "image/png": "[encoded data removed]",
      "text/plain": [
       "<Figure size 432x288 with 1 Axes>"
      ]
     },
     "metadata": {
      "needs_background": "light"
     },
     "output_type": "display_data"
    },
    {
     "name": "stdout",
     "output_type": "stream",
     "text": [
      "mean: 0.20547945205479434\n",
      "median: 0.2\n",
      "min: 0.0\n",
      "max: 1.0\n",
      "stdev: 0.20268366907771992\n",
      "______________________________________________________________________\n",
      "\n"
     ]
    },
    {
     "data": {
      "image/png": "[encoded data removed]",
      "text/plain": [
       "<Figure size 432x288 with 1 Axes>"
      ]
     },
     "metadata": {
      "needs_background": "light"
     },
     "output_type": "display_data"
    },
    {
     "data": {
      "image/png": "[encoded data removed]",
      "text/plain": [
       "<Figure size 432x288 with 1 Axes>"
      ]
     },
     "metadata": {
      "needs_background": "light"
     },
     "output_type": "display_data"
    },
    {
     "name": "stdout",
     "output_type": "stream",
     "text": [
      "mean: 0.5169092465753424\n",
      "median: 0.5625\n",
      "min: 0.0\n",
      "max: 1.0\n",
      "stdev: 0.25355214924601155\n",
      "______________________________________________________________________\n",
      "\n"
     ]
    },
    {
     "data": {
      "image/png": "[encoded data removed]",
      "text/plain": [
       "<Figure size 432x288 with 1 Axes>"
      ]
     },
     "metadata": {
      "needs_background": "light"
     },
     "output_type": "display_data"
    },
    {
     "data": {
      "image/png": "[encoded data removed]",
      "text/plain": [
       "<Figure size 432x288 with 1 Axes>"
      ]
     },
     "metadata": {
      "needs_background": "light"
     },
     "output_type": "display_data"
    },
    {
     "name": "stdout",
     "output_type": "stream",
     "text": [
      "mean: 0.2027397260273973\n",
      "median: 0.2\n",
      "min: 0.0\n",
      "max: 1.0\n",
      "stdev: 0.19858709448090617\n",
      "______________________________________________________________________\n",
      "\n"
     ]
    },
    {
     "data": {
      "image/png": "[encoded data removed]",
      "text/plain": [
       "<Figure size 432x288 with 1 Axes>"
      ]
     },
     "metadata": {
      "needs_background": "light"
     },
     "output_type": "display_data"
    },
    {
     "data": {
      "image/png": "[encoded data removed]",
      "text/plain": [
       "<Figure size 432x288 with 1 Axes>"
      ]
     },
     "metadata": {
      "needs_background": "light"
     },
     "output_type": "display_data"
    },
    {
     "name": "stdout",
     "output_type": "stream",
     "text": [
      "mean: 0.5441400304414004\n",
      "median: 0.5\n",
      "min: 0.0\n",
      "max: 1.0\n",
      "stdev: 0.21305531494135277\n",
      "______________________________________________________________________\n",
      "\n"
     ]
    },
    {
     "data": {
      "image/png": "[encoded data removed]",
      "text/plain": [
       "<Figure size 432x288 with 1 Axes>"
      ]
     },
     "metadata": {
      "needs_background": "light"
     },
     "output_type": "display_data"
    },
    {
     "data": {
      "image/png": "[encoded data removed]",
      "text/plain": [
       "<Figure size 432x288 with 1 Axes>"
      ]
     },
     "metadata": {
      "needs_background": "light"
     },
     "output_type": "display_data"
    },
    {
     "name": "stdout",
     "output_type": "stream",
     "text": [
      "mean: 0.48493150684931513\n",
      "median: 0.4666666666666667\n",
      "min: 0.0\n",
      "max: 1.0\n",
      "stdev: 0.28528960247539387\n",
      "______________________________________________________________________\n",
      "\n"
     ]
    },
    {
     "data": {
      "image/png": "[encoded data removed]",
      "text/plain": [
       "<Figure size 432x288 with 1 Axes>"
      ]
     },
     "metadata": {
      "needs_background": "light"
     },
     "output_type": "display_data"
    },
    {
     "data": {
      "image/png": "[encoded data removed]",
      "text/plain": [
       "<Figure size 432x288 with 1 Axes>"
      ]
     },
     "metadata": {
      "needs_background": "light"
     },
     "output_type": "display_data"
    },
    {
     "name": "stdout",
     "output_type": "stream",
     "text": [
      "mean: 0.29603550548371954\n",
      "median: 0.2834890965732087\n",
      "min: 0.0\n",
      "max: 1.0\n",
      "stdev: 0.20819380174410354\n",
      "______________________________________________________________________\n",
      "\n"
     ]
    }
   ],
   "source": [
    "import numpy as np\n",
    "import matplotlib.pyplot as plt\n",
    "import seaborn as sns\n",
    "%matplotlib inline\n",
    "#subject = .select_dtypes(include='number')\n",
    "for x in df_num:\n",
    "    df_num[x].plot.hist()\n",
    "    plt.xlabel(x)\n",
    "    plt.show()\n",
    "    df_num[x].plot.box()\n",
    "    plt.show()\n",
    "    print(\"mean:\",df_num[x].mean())\n",
    "    print(\"median:\",df_num[x].median())\n",
    "    print(\"min:\",df_num[x].min())\n",
    "    print(\"max:\",df_num[x].max())\n",
    "    print(\"stdev:\",df_num[x].std())\n",
    "    print(\"______________________________________________________________________\")\n",
    "    print(\"\")"
   ]
  },
  {
   "cell_type": "markdown",
   "id": "447829d6-eae1-4416-8705-e2cc1da22f06",
   "metadata": {},
   "source": [
    "# Scatter Plots"
   ]
  },
  {
   "cell_type": "code",
   "execution_count": 880,
   "id": "f9380ed3-c6ab-483e-9aba-dda7a13f1ef7",
   "metadata": {},
   "outputs": [
    {
     "name": "stdout",
     "output_type": "stream",
     "text": [
      "fiber potass : 0.9160050404663549\n",
      "potass fiber : 0.9160050404663549\n"
     ]
    }
   ],
   "source": [
    "#this function outputs the two factors with the highest positive correlation\n",
    "target_pairs = []\n",
    "for x in df_num: \n",
    "    for y in df_num:\n",
    "        if 0.99 > df_num[x].corr(df_num[y]) > .8:  \n",
    "            print(x,y, \":\", df_num[x].corr(df_num[y]))\n",
    "            target_pairs.append([x,y])\n",
    "        "
   ]
  },
  {
   "cell_type": "code",
   "execution_count": 881,
   "id": "a1463450-8d20-45ed-9665-6f7599bd0c1c",
   "metadata": {},
   "outputs": [
    {
     "data": {
      "image/png": "[encoded data removed]",
      "text/plain": [
       "<Figure size 432x288 with 1 Axes>"
      ]
     },
     "metadata": {
      "needs_background": "light"
     },
     "output_type": "display_data"
    }
   ],
   "source": [
    "x = df_num['fiber']\n",
    "y = df_num['potass']\n",
    "plt.scatter(x, y)\n",
    "plt.xlabel(\"fiber\")\n",
    "plt.ylabel(\"potass\")\n",
    "plt.show()"
   ]
  },
  {
   "cell_type": "markdown",
   "id": "1a26b8a3-5f60-42dd-8044-7e1d89a5f2fe",
   "metadata": {},
   "source": [
    "# K MEANS"
   ]
  },
  {
   "cell_type": "code",
   "execution_count": 932,
   "id": "a46b3fa3-acd6-4f8d-b4d2-63f8402b37f4",
   "metadata": {},
   "outputs": [],
   "source": [
    "k = 3\n",
    "X = pd.DataFrame(df_num,columns=['fiber','potass'])"
   ]
  },
  {
   "cell_type": "code",
   "execution_count": 933,
   "id": "7f5ea91e-1783-48a5-9dde-dfe2d40e51a4",
   "metadata": {},
   "outputs": [
    {
     "data": {
      "text/plain": [
       "KMeans(init='random', n_clusters=3, random_state=42)"
      ]
     },
     "execution_count": 933,
     "metadata": {},
     "output_type": "execute_result"
    }
   ],
   "source": [
    "kmeans = KMeans(init=\"random\",\n",
    "                n_clusters=k,\n",
    "                n_init=10,\n",
    "                max_iter=300,\n",
    "                random_state=42\n",
    "               )\n",
    "kmeans.fit(X)"
   ]
  },
  {
   "cell_type": "code",
   "execution_count": 937,
   "id": "30ccf637-7df1-40aa-897e-9bda3e1d36b5",
   "metadata": {},
   "outputs": [
    {
     "data": {
      "text/plain": [
       "0.9780405415894666"
      ]
     },
     "execution_count": 937,
     "metadata": {},
     "output_type": "execute_result"
    }
   ],
   "source": [
    "kmeans.inertia_"
   ]
  },
  {
   "cell_type": "markdown",
   "id": "51eabd66-5bc4-4fd6-ae32-78e7060cc4c0",
   "metadata": {},
   "source": [
    "### Inertia  \n",
    "Inertia measures how well a dataset was clustered by K-Means. It is calculated by measuring the distance between each data point and its centroid, squaring this distance, and summing these squares across one cluster. The optimal result for a K means is a low inertia paired with a low k value(# of clusters)."
   ]
  },
  {
   "cell_type": "code",
   "execution_count": 935,
   "id": "3c2347cd-dce3-4664-a312-d724f06e2bea",
   "metadata": {},
   "outputs": [
    {
     "data": {
      "text/plain": [
       "array([[0.26612903, 0.36237564],\n",
       "       [0.04852941, 0.12946674],\n",
       "       [0.6125    , 0.74688474]])"
      ]
     },
     "execution_count": 935,
     "metadata": {},
     "output_type": "execute_result"
    }
   ],
   "source": [
    "kmeans.cluster_centers_"
   ]
  },
  {
   "cell_type": "code",
   "execution_count": 939,
   "id": "0d009501-08c1-4663-b527-72776067ea35",
   "metadata": {},
   "outputs": [
    {
     "data": {
      "text/plain": [
       "5"
      ]
     },
     "execution_count": 939,
     "metadata": {},
     "output_type": "execute_result"
    }
   ],
   "source": [
    "kmeans.n_iter_"
   ]
  },
  {
   "cell_type": "code",
   "execution_count": 940,
   "id": "6a7d6443-1ede-4bb6-a39c-2381e282dad2",
   "metadata": {},
   "outputs": [],
   "source": [
    "#number of kmeans it took for the cluster centers to settle(be at their optimal location)"
   ]
  },
  {
   "cell_type": "code",
   "execution_count": 922,
   "id": "7c1ba23d-5d46-48d1-8675-54c1c0b771ef",
   "metadata": {},
   "outputs": [],
   "source": [
    "centers = np.array(kmeans.cluster_centers_)"
   ]
  },
  {
   "cell_type": "code",
   "execution_count": 923,
   "id": "ddcc39f9-c90d-4f47-9160-1763efc4b1fe",
   "metadata": {},
   "outputs": [
    {
     "data": {
      "text/plain": [
       "Text(0.5, 1.0, 'k means centroids')"
      ]
     },
     "execution_count": 923,
     "metadata": {},
     "output_type": "execute_result"
    },
    {
     "data": {
      "image/png": "[encoded data removed]",
      "text/plain": [
       "<Figure size 432x288 with 1 Axes>"
      ]
     },
     "metadata": {},
     "output_type": "display_data"
    }
   ],
   "source": [
    "plt.scatter(X.fiber, X.potass)\n",
    "plt.scatter(centers[:,0], centers[:,1], marker=\"x\", color='r')\n",
    "plt.plot()\n",
    "plt.title('k means centroids')"
   ]
  },
  {
   "cell_type": "code",
   "execution_count": 924,
   "id": "5aad5874-3e14-44fa-a9c4-359ae21659bb",
   "metadata": {},
   "outputs": [
    {
     "data": {
      "text/plain": [
       "array([2, 3, 2, 0, 0], dtype=int32)"
      ]
     },
     "execution_count": 924,
     "metadata": {},
     "output_type": "execute_result"
    }
   ],
   "source": [
    "kmeans.labels_[:5]"
   ]
  },
  {
   "cell_type": "code",
   "execution_count": 925,
   "id": "179126b5-2ee9-4fb6-9610-01fa881731d9",
   "metadata": {},
   "outputs": [],
   "source": [
    "kmeans_kwargs = {\n",
    "    \"init\": \"random\",\n",
    "    \"n_init\": 10,\n",
    "    \"max_iter\": 300,\n",
    "     \"random_state\": 42,\n",
    "}\n",
    "\n",
    "# A list holds the SSE values for each k\n",
    "sse = []\n",
    "for k in range(1, 11):\n",
    "    kmeans = KMeans(n_clusters=k, **kmeans_kwargs)\n",
    "    kmeans.fit(X)\n",
    "    sse.append(kmeans.inertia_)"
   ]
  },
  {
   "cell_type": "code",
   "execution_count": 926,
   "id": "cf5a778a-8a2e-483f-9ac0-74f495a40750",
   "metadata": {},
   "outputs": [
    {
     "data": {
      "image/png": "[encoded data removed]",
      "text/plain": [
       "<Figure size 432x288 with 1 Axes>"
      ]
     },
     "metadata": {},
     "output_type": "display_data"
    }
   ],
   "source": [
    "plt.plot(range(1, 11), sse)\n",
    "plt.xticks(range(1, 11))\n",
    "plt.xlabel(\"Number of Clusters\")\n",
    "plt.ylabel(\"SSE\")\n",
    "plt.show()"
   ]
  },
  {
   "cell_type": "code",
   "execution_count": 931,
   "id": "17bba84d-4f05-42b5-a887-720a18a8bd47",
   "metadata": {},
   "outputs": [
    {
     "data": {
      "text/plain": [
       "3"
      ]
     },
     "execution_count": 931,
     "metadata": {},
     "output_type": "execute_result"
    }
   ],
   "source": [
    "from kneed import KneeLocator\n",
    "kl = KneeLocator(range(1, 11), sse, curve=\"convex\", direction=\"decreasing\")\n",
    "kl.elbow"
   ]
  },
  {
   "cell_type": "code",
   "execution_count": null,
   "id": "c345d0bf-f446-4b8d-b975-a50e6b3209ad",
   "metadata": {},
   "outputs": [],
   "source": [
    "# The *elbow* can be interpreted as the number of clusters that categorizes the dasta most efficienttly. "
   ]
  },
  {
   "cell_type": "code",
   "execution_count": 928,
   "id": "03559c73-2984-4d10-b9d6-da3e1e046a38",
   "metadata": {},
   "outputs": [],
   "source": [
    "silhouette_coefficients = []\n",
    "for k in range(2, 11):\n",
    "    kmeans = KMeans(n_clusters=k, **kmeans_kwargs)\n",
    "    kmeans.fit(X)\n",
    "    score = silhouette_score(X, kmeans.labels_)\n",
    "    silhouette_coefficients.append(score)"
   ]
  },
  {
   "cell_type": "code",
   "execution_count": 930,
   "id": "bb6a087e-c42a-41a8-9b40-c7dc438b2ff5",
   "metadata": {},
   "outputs": [
    {
     "data": {
      "image/png": "[encoded data removed]",
      "text/plain": [
       "<Figure size 432x288 with 1 Axes>"
      ]
     },
     "metadata": {},
     "output_type": "display_data"
    }
   ],
   "source": [
    "plt.style.use(\"fivethirtyeight\")\n",
    "plt.plot(range(2, 11), silhouette_coefficients)\n",
    "plt.xticks(range(2, 11))\n",
    "plt.xlabel(\"Number of Clusters\")\n",
    "plt.ylabel(\"Silhouette Coefficient\")\n",
    "plt.show()"
   ]
  },
  {
   "cell_type": "code",
   "execution_count": null,
   "id": "9e21db31-b6d3-478a-83a1-e10d10be4c9e",
   "metadata": {},
   "outputs": [],
   "source": [
    "#According to the Silhouette Coefficent the optimal number of clusters is between 3 and 4. "
   ]
  },
  {
   "cell_type": "markdown",
   "id": "01db215c-070e-49c9-bc81-f93961bbdad8",
   "metadata": {},
   "source": [
    "# resources\n",
    "I used https://realpython.com/k-means-clustering-python/ to run the kmeans"
   ]
  },
  {
   "cell_type": "markdown",
   "id": "68750dee-5578-4df5-a620-c873d858930d",
   "metadata": {},
   "source": [
    "### Conclusion\n",
    "\n",
    "The first step in this project was determining what data to include. Our group used the resources provided on the Econ 1923 Github project to complete this project: the list of Giant Eagle UPCs, and the CSV sheet of cereal prodcuts. We made an API call to Edamam API based to garner data that we used to create *df1*. We then converted the CSV file into another dataframe *df2*. The process of cleaning was mostly just deciding what features to keep from each dataset. We ended up keeping, \"name\",\"calorie\",\"protein\",\"fat\",\"sodium\",\"fiber\",\"carbo\",\"sugars\",\"potass\",\"cups\", and \"source\" as our features as this was what each dataset had in common.  By combinging df1 and df2 together, we have a 79 rows × 11 columns dataframe. Based on the box plots for each factor above, the mean, median, minimum, max, standard deviation, and the distribution pattern can be seen directly.For data visualization part, we used the correlation function and found that fiber and potass have the highest positive correlated relationship (0.916).Moving on to K-means method application that analyzes the degree of product differentiation, as the number of clusters increases, the total sum of errors (SSE) decreases and approaches to 0. As the value of K increases, there will be fewer elements in the cluster. So average distortion will decrease. The lesser number of elements means closer to the centroid. The value of the silhouette coefﬁcient is between [-1, 1]. A score of 1 denotes the best outcome that the data point i is very compact within the cluster to which it belongs and far away from the other clusters. The worst value is -1. Values near 0 denote overlapping clusters.When k = 3 or 4, the silhoutte coefficient is closet to 1. The cereal market, based on our findings, is NOT saturated because only certain nutrition factors are correlated among different products, which implies that each product is still able to differntiate itself from other competitors."
   ]
  },
  {
   "cell_type": "code",
   "execution_count": null,
   "id": "86952f62-2b7e-4535-ad5d-98145f44303f",
   "metadata": {},
   "outputs": [],
   "source": []
  }
 ],
 "metadata": {
  "kernelspec": {
   "display_name": "Python 3",
   "language": "python",
   "name": "python3"
  },
  "language_info": {
   "codemirror_mode": {
    "name": "ipython",
    "version": 3
   },
   "file_extension": ".py",
   "mimetype": "text/x-python",
   "name": "python",
   "nbconvert_exporter": "python",
   "pygments_lexer": "ipython3",
   "version": "3.8.8"
  }
 },
 "nbformat": 4,
 "nbformat_minor": 5
}
