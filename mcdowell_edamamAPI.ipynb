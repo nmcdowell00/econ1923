{
 "cells": [
  {
   "cell_type": "code",
   "execution_count": 40,
   "id": "e035de30-7953-43ef-91f9-02804debc724",
   "metadata": {},
   "outputs": [],
   "source": [
    "import os\n",
    "import pandas as pd\n",
    "import requests, json"
   ]
  },
  {
   "cell_type": "code",
   "execution_count": 41,
   "id": "17710de4-693d-4eab-9e80-83d343fdc286",
   "metadata": {},
   "outputs": [],
   "source": [
    "GE_WF_UPCSs = [\"16000124790\", \"16000122543\", \"16000125063\", \"16000123991\", \"16000487727\", \"30000060834\", \"16000124950\", \"16000125933\", \"16000275157\", \"16000124998\", \"16000487949\", \"30000063224\", \"884912004710\", \"16000487932\", \"884912014269\", \"30000063545\", \"884912129659\", \"16000103719\", \"38000199240\", \"16000163461\", \"38000198717\", \"884912111715\", \"884912249265\", \"16000126855\", \"884912126115\", \"16000120259\", \"884912002372\", \"38000200458\", \"16000163614\", \"30000064306\", \"884912102102\", \"16000152335\", \"884912116505\", \"16000275638\", \"43000129715\", \"16000157811\", \"38000787041\", \"16000121836\", \"21908455563\", \"43000129517\", \"884912126016\", \"16000163669\", \"30000061534\", \"30034019082\", \"884912249272\", \"13562002474\", \"884912117625\", \"43000014271\", \"884912114600\", \"38000200663\"]"
   ]
  },
  {
   "cell_type": "code",
   "execution_count": 42,
   "id": "809eefb3-d69b-430d-a6a4-966f96a949f0",
   "metadata": {},
   "outputs": [],
   "source": [
    "whole_foods_shelf = GE_WF_UPCSs"
   ]
  },
  {
   "cell_type": "code",
   "execution_count": 43,
   "id": "2427a16d-0ea5-4a1b-b414-adf9ec11f3b4",
   "metadata": {},
   "outputs": [],
   "source": [
    "%run APIkeys.py"
   ]
  },
  {
   "cell_type": "code",
   "execution_count": 44,
   "id": "71ec81aa-cdcb-4595-8afa-fb951cf05fcf",
   "metadata": {},
   "outputs": [],
   "source": [
    "def checkUPC_V2(upc):\n",
    "    app_id = os.environ['EDAMAM_API_id']\n",
    "    key = os.environ['EDAMAM_API_key']\n",
    "    baseURL = 'https://api.edamam.com/api/food-database/v2/parser?app_id='+app_id+'&app_key='+key+'&upc='\n",
    "    endURL = '&nutrition-type=cooking&category=packaged-foods'\n",
    "    url = baseURL + upc + endURL\n",
    "    info = requests.get(url).json()\n",
    "    if 'error' in info:\n",
    "        return info\n",
    "    else:\n",
    "        answer = info['hints'][0]['food']['nutrients']\n",
    "        \n",
    "        sizeList = info['hints'][0]['food']['servingSizes']\n",
    "        n = len(sizeList)\n",
    "        for i in range(n):\n",
    "            if sizeList[i]['label'] == 'Gram':\n",
    "                answer['servingSize_gram'] = info['hints'][0]['food']['servingSizes'][i]['quantity']\n",
    "            if sizeList[i]['label'] == 'Cup':\n",
    "                answer['servingSize_cup'] = info['hints'][0]['food']['servingSizes'][i]['quantity']\n",
    "        \n",
    "        answer['label'] = info['hints'][0]['food']['label']\n",
    "        answer['upc'] = upc\n",
    "        return answer"
   ]
  },
  {
   "cell_type": "code",
   "execution_count": 45,
   "id": "3cd76a25-0cc2-4cb9-ae91-f7aef96f7749",
   "metadata": {},
   "outputs": [],
   "source": [
    "def run_shelf(shelf, verbose = False, leftovers = False, source=\"\"):\n",
    "    \n",
    "    # Shelf - a list of strings, each representing a UPC code\n",
    "    # verbose - boolean telling the function whether to print found/unfound UPCs\n",
    "    # leftovers - boolean telling the function whetehr to output the \n",
    "    \n",
    "    found = []    #container for information on found UPCS\n",
    "    unfound = []  #container for unfound UPCs\n",
    "    \n",
    "    # loop over UPCs in shelf\n",
    "    for upc in shelf:\n",
    "        info = checkUPC_V2(upc)\n",
    "        \n",
    "        if 'error' in info:\n",
    "            unfound.append(upc) #add to the unfound container\n",
    "            if verbose:\n",
    "                print('UPC ',upc, ' does not exist in the API\\'s data base')\n",
    "        \n",
    "        else:\n",
    "            if verbose:\n",
    "                print('UPC ',upc, ' exists in the API\\'s data base')\n",
    "            found.append(info)\n",
    "    \n",
    "    # turn the dictionary found into aDataframe\n",
    "    if len(found)>0:\n",
    "        df_found = pd.DataFrame(found)\n",
    "    else:\n",
    "        df_found = pd.DataFrame()\n",
    "    \n",
    "    # add a source column\n",
    "    df_found[\"dataSource\"] = pd.Series([source for i in range(len(df_found.index))])\n",
    "    \n",
    "    \n",
    "    # return the values of found and unfound (optional)\n",
    "    if leftovers:\n",
    "        return df_found.head(),unfound\n",
    "    else:\n",
    "        return df_found.head()"
   ]
  },
  {
   "cell_type": "code",
   "execution_count": 46,
   "id": "14235781-f324-468b-919d-b7e365f2a917",
   "metadata": {},
   "outputs": [
    {
     "name": "stdout",
     "output_type": "stream",
     "text": [
      "There are 77 rows and 16 columns\n"
     ]
    }
   ],
   "source": [
    "df1 = pd.read_csv('/Users/natemcdowell/Desktop/edamamAPI_project/cereal_kaggle.csv', delimiter=',')\n",
    "df1.dataframeName = 'cereal.csv'\n",
    "nRow, nCol = df1.shape\n",
    "print(f'There are {nRow} rows and {nCol} columns')"
   ]
  },
  {
   "cell_type": "code",
   "execution_count": 47,
   "id": "03686499-4928-4dde-a0fa-a2e998958cf8",
   "metadata": {},
   "outputs": [
    {
     "data": {
      "text/html": [
       "<div>\n",
       "<style scoped>\n",
       "    .dataframe tbody tr th:only-of-type {\n",
       "        vertical-align: middle;\n",
       "    }\n",
       "\n",
       "    .dataframe tbody tr th {\n",
       "        vertical-align: top;\n",
       "    }\n",
       "\n",
       "    .dataframe thead th {\n",
       "        text-align: right;\n",
       "    }\n",
       "</style>\n",
       "<table border=\"1\" class=\"dataframe\">\n",
       "  <thead>\n",
       "    <tr style=\"text-align: right;\">\n",
       "      <th></th>\n",
       "      <th>name</th>\n",
       "      <th>mfr</th>\n",
       "      <th>type</th>\n",
       "      <th>calories</th>\n",
       "      <th>protein</th>\n",
       "      <th>fat</th>\n",
       "      <th>sodium</th>\n",
       "      <th>fiber</th>\n",
       "      <th>carbo</th>\n",
       "      <th>sugars</th>\n",
       "      <th>potass</th>\n",
       "      <th>vitamins</th>\n",
       "      <th>shelf</th>\n",
       "      <th>weight</th>\n",
       "      <th>cups</th>\n",
       "      <th>rating</th>\n",
       "    </tr>\n",
       "  </thead>\n",
       "  <tbody>\n",
       "    <tr>\n",
       "      <th>0</th>\n",
       "      <td>100% Bran</td>\n",
       "      <td>N</td>\n",
       "      <td>C</td>\n",
       "      <td>70</td>\n",
       "      <td>4</td>\n",
       "      <td>1</td>\n",
       "      <td>130</td>\n",
       "      <td>10.0</td>\n",
       "      <td>5.0</td>\n",
       "      <td>6</td>\n",
       "      <td>280</td>\n",
       "      <td>25</td>\n",
       "      <td>3</td>\n",
       "      <td>1.0</td>\n",
       "      <td>0.33</td>\n",
       "      <td>68.402973</td>\n",
       "    </tr>\n",
       "    <tr>\n",
       "      <th>1</th>\n",
       "      <td>100% Natural Bran</td>\n",
       "      <td>Q</td>\n",
       "      <td>C</td>\n",
       "      <td>120</td>\n",
       "      <td>3</td>\n",
       "      <td>5</td>\n",
       "      <td>15</td>\n",
       "      <td>2.0</td>\n",
       "      <td>8.0</td>\n",
       "      <td>8</td>\n",
       "      <td>135</td>\n",
       "      <td>0</td>\n",
       "      <td>3</td>\n",
       "      <td>1.0</td>\n",
       "      <td>1.00</td>\n",
       "      <td>33.983679</td>\n",
       "    </tr>\n",
       "    <tr>\n",
       "      <th>2</th>\n",
       "      <td>All-Bran</td>\n",
       "      <td>K</td>\n",
       "      <td>C</td>\n",
       "      <td>70</td>\n",
       "      <td>4</td>\n",
       "      <td>1</td>\n",
       "      <td>260</td>\n",
       "      <td>9.0</td>\n",
       "      <td>7.0</td>\n",
       "      <td>5</td>\n",
       "      <td>320</td>\n",
       "      <td>25</td>\n",
       "      <td>3</td>\n",
       "      <td>1.0</td>\n",
       "      <td>0.33</td>\n",
       "      <td>59.425505</td>\n",
       "    </tr>\n",
       "    <tr>\n",
       "      <th>3</th>\n",
       "      <td>All-Bran with Extra Fiber</td>\n",
       "      <td>K</td>\n",
       "      <td>C</td>\n",
       "      <td>50</td>\n",
       "      <td>4</td>\n",
       "      <td>0</td>\n",
       "      <td>140</td>\n",
       "      <td>14.0</td>\n",
       "      <td>8.0</td>\n",
       "      <td>0</td>\n",
       "      <td>330</td>\n",
       "      <td>25</td>\n",
       "      <td>3</td>\n",
       "      <td>1.0</td>\n",
       "      <td>0.50</td>\n",
       "      <td>93.704912</td>\n",
       "    </tr>\n",
       "    <tr>\n",
       "      <th>4</th>\n",
       "      <td>Almond Delight</td>\n",
       "      <td>R</td>\n",
       "      <td>C</td>\n",
       "      <td>110</td>\n",
       "      <td>2</td>\n",
       "      <td>2</td>\n",
       "      <td>200</td>\n",
       "      <td>1.0</td>\n",
       "      <td>14.0</td>\n",
       "      <td>8</td>\n",
       "      <td>-1</td>\n",
       "      <td>25</td>\n",
       "      <td>3</td>\n",
       "      <td>1.0</td>\n",
       "      <td>0.75</td>\n",
       "      <td>34.384843</td>\n",
       "    </tr>\n",
       "    <tr>\n",
       "      <th>...</th>\n",
       "      <td>...</td>\n",
       "      <td>...</td>\n",
       "      <td>...</td>\n",
       "      <td>...</td>\n",
       "      <td>...</td>\n",
       "      <td>...</td>\n",
       "      <td>...</td>\n",
       "      <td>...</td>\n",
       "      <td>...</td>\n",
       "      <td>...</td>\n",
       "      <td>...</td>\n",
       "      <td>...</td>\n",
       "      <td>...</td>\n",
       "      <td>...</td>\n",
       "      <td>...</td>\n",
       "      <td>...</td>\n",
       "    </tr>\n",
       "    <tr>\n",
       "      <th>72</th>\n",
       "      <td>Triples</td>\n",
       "      <td>G</td>\n",
       "      <td>C</td>\n",
       "      <td>110</td>\n",
       "      <td>2</td>\n",
       "      <td>1</td>\n",
       "      <td>250</td>\n",
       "      <td>0.0</td>\n",
       "      <td>21.0</td>\n",
       "      <td>3</td>\n",
       "      <td>60</td>\n",
       "      <td>25</td>\n",
       "      <td>3</td>\n",
       "      <td>1.0</td>\n",
       "      <td>0.75</td>\n",
       "      <td>39.106174</td>\n",
       "    </tr>\n",
       "    <tr>\n",
       "      <th>73</th>\n",
       "      <td>Trix</td>\n",
       "      <td>G</td>\n",
       "      <td>C</td>\n",
       "      <td>110</td>\n",
       "      <td>1</td>\n",
       "      <td>1</td>\n",
       "      <td>140</td>\n",
       "      <td>0.0</td>\n",
       "      <td>13.0</td>\n",
       "      <td>12</td>\n",
       "      <td>25</td>\n",
       "      <td>25</td>\n",
       "      <td>2</td>\n",
       "      <td>1.0</td>\n",
       "      <td>1.00</td>\n",
       "      <td>27.753301</td>\n",
       "    </tr>\n",
       "    <tr>\n",
       "      <th>74</th>\n",
       "      <td>Wheat Chex</td>\n",
       "      <td>R</td>\n",
       "      <td>C</td>\n",
       "      <td>100</td>\n",
       "      <td>3</td>\n",
       "      <td>1</td>\n",
       "      <td>230</td>\n",
       "      <td>3.0</td>\n",
       "      <td>17.0</td>\n",
       "      <td>3</td>\n",
       "      <td>115</td>\n",
       "      <td>25</td>\n",
       "      <td>1</td>\n",
       "      <td>1.0</td>\n",
       "      <td>0.67</td>\n",
       "      <td>49.787445</td>\n",
       "    </tr>\n",
       "    <tr>\n",
       "      <th>75</th>\n",
       "      <td>Wheaties</td>\n",
       "      <td>G</td>\n",
       "      <td>C</td>\n",
       "      <td>100</td>\n",
       "      <td>3</td>\n",
       "      <td>1</td>\n",
       "      <td>200</td>\n",
       "      <td>3.0</td>\n",
       "      <td>17.0</td>\n",
       "      <td>3</td>\n",
       "      <td>110</td>\n",
       "      <td>25</td>\n",
       "      <td>1</td>\n",
       "      <td>1.0</td>\n",
       "      <td>1.00</td>\n",
       "      <td>51.592193</td>\n",
       "    </tr>\n",
       "    <tr>\n",
       "      <th>76</th>\n",
       "      <td>Wheaties Honey Gold</td>\n",
       "      <td>G</td>\n",
       "      <td>C</td>\n",
       "      <td>110</td>\n",
       "      <td>2</td>\n",
       "      <td>1</td>\n",
       "      <td>200</td>\n",
       "      <td>1.0</td>\n",
       "      <td>16.0</td>\n",
       "      <td>8</td>\n",
       "      <td>60</td>\n",
       "      <td>25</td>\n",
       "      <td>1</td>\n",
       "      <td>1.0</td>\n",
       "      <td>0.75</td>\n",
       "      <td>36.187559</td>\n",
       "    </tr>\n",
       "  </tbody>\n",
       "</table>\n",
       "<p>77 rows × 16 columns</p>\n",
       "</div>"
      ],
      "text/plain": [
       "                         name mfr type  calories  protein  fat  sodium  fiber  \\\n",
       "0                   100% Bran   N    C        70        4    1     130   10.0   \n",
       "1           100% Natural Bran   Q    C       120        3    5      15    2.0   \n",
       "2                    All-Bran   K    C        70        4    1     260    9.0   \n",
       "3   All-Bran with Extra Fiber   K    C        50        4    0     140   14.0   \n",
       "4              Almond Delight   R    C       110        2    2     200    1.0   \n",
       "..                        ...  ..  ...       ...      ...  ...     ...    ...   \n",
       "72                    Triples   G    C       110        2    1     250    0.0   \n",
       "73                       Trix   G    C       110        1    1     140    0.0   \n",
       "74                 Wheat Chex   R    C       100        3    1     230    3.0   \n",
       "75                   Wheaties   G    C       100        3    1     200    3.0   \n",
       "76        Wheaties Honey Gold   G    C       110        2    1     200    1.0   \n",
       "\n",
       "    carbo  sugars  potass  vitamins  shelf  weight  cups     rating  \n",
       "0     5.0       6     280        25      3     1.0  0.33  68.402973  \n",
       "1     8.0       8     135         0      3     1.0  1.00  33.983679  \n",
       "2     7.0       5     320        25      3     1.0  0.33  59.425505  \n",
       "3     8.0       0     330        25      3     1.0  0.50  93.704912  \n",
       "4    14.0       8      -1        25      3     1.0  0.75  34.384843  \n",
       "..    ...     ...     ...       ...    ...     ...   ...        ...  \n",
       "72   21.0       3      60        25      3     1.0  0.75  39.106174  \n",
       "73   13.0      12      25        25      2     1.0  1.00  27.753301  \n",
       "74   17.0       3     115        25      1     1.0  0.67  49.787445  \n",
       "75   17.0       3     110        25      1     1.0  1.00  51.592193  \n",
       "76   16.0       8      60        25      1     1.0  0.75  36.187559  \n",
       "\n",
       "[77 rows x 16 columns]"
      ]
     },
     "execution_count": 47,
     "metadata": {},
     "output_type": "execute_result"
    }
   ],
   "source": [
    "df1"
   ]
  },
  {
   "cell_type": "code",
   "execution_count": 48,
   "id": "68be27ab-fb61-404a-8762-dd182977b135",
   "metadata": {},
   "outputs": [],
   "source": [
    "df1 = df1.loc[df1[\"type\"] !='H']\n",
    "df1 = df1.drop(columns = {'mfr','type','rating',\"weight\",\"shelf\"})\n",
    "df1['source'] = 'kaggle'"
   ]
  },
  {
   "cell_type": "code",
   "execution_count": 49,
   "id": "9e28ece0-f498-4746-bd9f-a230ea280b56",
   "metadata": {},
   "outputs": [],
   "source": [
    "df2 = run_shelf(whole_foods_shelf)"
   ]
  },
  {
   "cell_type": "code",
   "execution_count": 50,
   "id": "9268b506-4d77-455e-ae9b-b786b7ced745",
   "metadata": {},
   "outputs": [],
   "source": [
    "df2 = df2.rename(columns = {\"label\":\"name\",\n",
    "                           \"SUGAR\":\"sugars\",\n",
    "                           \"FAT\":\"fat\",\n",
    "                           \"FIBTG\":\"fiber\",\n",
    "                            \"ENERC_KCAL\":\"calorie\",\n",
    "                            \"PROCNT\":\"protein\",\n",
    "                            \"K\":\"potass\",\n",
    "                            \"NA\":\"sodium\",\n",
    "                            \"CHOCDF\":\"carbo\",\n",
    "                            \"servingSize_cup\":\"cups\"\n",
    "                           })\n",
    "df2['source'] = 'edamam, whole foods'"
   ]
  },
  {
   "cell_type": "code",
   "execution_count": 51,
   "id": "af9fe8b3-7dad-4848-9536-27ad17610502",
   "metadata": {},
   "outputs": [],
   "source": [
    "df2 = df2[[\"name\",\n",
    "         \"sugars\",\n",
    "         \"fat\",\n",
    "         \"fiber\",\n",
    "         \"calorie\",\n",
    "          \"protein\",\n",
    "          \"potass\",\n",
    "          \"sodium\",\n",
    "          \"carbo\",\n",
    "          \"cups\",\n",
    "           \"source\"\n",
    "          ]]"
   ]
  },
  {
   "cell_type": "code",
   "execution_count": 52,
   "id": "e75533bc-e938-45ba-88b9-39d647a3932d",
   "metadata": {},
   "outputs": [],
   "source": [
    "df1.head()\n",
    "df2= df2[[\"name\",\"calorie\",\"protein\",\"fat\",\"sodium\",\"fiber\",\"carbo\",\"sugars\",\"potass\",\"cups\", \"source\"]]\n",
    "df1 = df1.drop(columns = {\"vitamins\"})"
   ]
  },
  {
   "cell_type": "code",
   "execution_count": 53,
   "id": "62f23494-7845-49f1-91ee-82e5c0fbf75d",
   "metadata": {},
   "outputs": [
    {
     "data": {
      "text/html": [
       "<div>\n",
       "<style scoped>\n",
       "    .dataframe tbody tr th:only-of-type {\n",
       "        vertical-align: middle;\n",
       "    }\n",
       "\n",
       "    .dataframe tbody tr th {\n",
       "        vertical-align: top;\n",
       "    }\n",
       "\n",
       "    .dataframe thead th {\n",
       "        text-align: right;\n",
       "    }\n",
       "</style>\n",
       "<table border=\"1\" class=\"dataframe\">\n",
       "  <thead>\n",
       "    <tr style=\"text-align: right;\">\n",
       "      <th></th>\n",
       "      <th>name</th>\n",
       "      <th>calorie</th>\n",
       "      <th>protein</th>\n",
       "      <th>fat</th>\n",
       "      <th>sodium</th>\n",
       "      <th>fiber</th>\n",
       "      <th>carbo</th>\n",
       "      <th>sugars</th>\n",
       "      <th>potass</th>\n",
       "      <th>cups</th>\n",
       "      <th>source</th>\n",
       "    </tr>\n",
       "  </thead>\n",
       "  <tbody>\n",
       "    <tr>\n",
       "      <th>0</th>\n",
       "      <td>Honey Nut Cheerios</td>\n",
       "      <td>393.000000</td>\n",
       "      <td>7.140000</td>\n",
       "      <td>5.360000</td>\n",
       "      <td>571.00000</td>\n",
       "      <td>7.100000</td>\n",
       "      <td>78.570000</td>\n",
       "      <td>32.139999</td>\n",
       "      <td>411.000000</td>\n",
       "      <td>0.75</td>\n",
       "      <td>edamam, whole foods</td>\n",
       "    </tr>\n",
       "    <tr>\n",
       "      <th>1</th>\n",
       "      <td>Cinnamon Toast Crunch Cereal</td>\n",
       "      <td>419.000000</td>\n",
       "      <td>3.230000</td>\n",
       "      <td>9.680000</td>\n",
       "      <td>581.00000</td>\n",
       "      <td>6.500000</td>\n",
       "      <td>80.650002</td>\n",
       "      <td>29.030001</td>\n",
       "      <td>177.000000</td>\n",
       "      <td>0.75</td>\n",
       "      <td>edamam, whole foods</td>\n",
       "    </tr>\n",
       "    <tr>\n",
       "      <th>2</th>\n",
       "      <td>Honey Nut Cheerios</td>\n",
       "      <td>393.000000</td>\n",
       "      <td>7.140000</td>\n",
       "      <td>5.360000</td>\n",
       "      <td>571.00000</td>\n",
       "      <td>7.100000</td>\n",
       "      <td>78.570000</td>\n",
       "      <td>32.139999</td>\n",
       "      <td>411.000000</td>\n",
       "      <td>0.75</td>\n",
       "      <td>edamam, whole foods</td>\n",
       "    </tr>\n",
       "    <tr>\n",
       "      <th>3</th>\n",
       "      <td>Lucky Charms Cereal Frosted Toasted Oat, With ...</td>\n",
       "      <td>407.407407</td>\n",
       "      <td>7.407407</td>\n",
       "      <td>3.703704</td>\n",
       "      <td>629.62963</td>\n",
       "      <td>7.407407</td>\n",
       "      <td>81.481481</td>\n",
       "      <td>37.037037</td>\n",
       "      <td>185.185185</td>\n",
       "      <td>0.75</td>\n",
       "      <td>edamam, whole foods</td>\n",
       "    </tr>\n",
       "    <tr>\n",
       "      <th>4</th>\n",
       "      <td>Cheerios Cereal</td>\n",
       "      <td>357.000000</td>\n",
       "      <td>10.710000</td>\n",
       "      <td>7.140000</td>\n",
       "      <td>500.00000</td>\n",
       "      <td>10.700000</td>\n",
       "      <td>71.430000</td>\n",
       "      <td>3.570000</td>\n",
       "      <td>643.000000</td>\n",
       "      <td>1.00</td>\n",
       "      <td>edamam, whole foods</td>\n",
       "    </tr>\n",
       "  </tbody>\n",
       "</table>\n",
       "</div>"
      ],
      "text/plain": [
       "                                                name     calorie    protein  \\\n",
       "0                                 Honey Nut Cheerios  393.000000   7.140000   \n",
       "1                       Cinnamon Toast Crunch Cereal  419.000000   3.230000   \n",
       "2                                 Honey Nut Cheerios  393.000000   7.140000   \n",
       "3  Lucky Charms Cereal Frosted Toasted Oat, With ...  407.407407   7.407407   \n",
       "4                                    Cheerios Cereal  357.000000  10.710000   \n",
       "\n",
       "        fat     sodium      fiber      carbo     sugars      potass  cups  \\\n",
       "0  5.360000  571.00000   7.100000  78.570000  32.139999  411.000000  0.75   \n",
       "1  9.680000  581.00000   6.500000  80.650002  29.030001  177.000000  0.75   \n",
       "2  5.360000  571.00000   7.100000  78.570000  32.139999  411.000000  0.75   \n",
       "3  3.703704  629.62963   7.407407  81.481481  37.037037  185.185185  0.75   \n",
       "4  7.140000  500.00000  10.700000  71.430000   3.570000  643.000000  1.00   \n",
       "\n",
       "                source  \n",
       "0  edamam, whole foods  \n",
       "1  edamam, whole foods  \n",
       "2  edamam, whole foods  \n",
       "3  edamam, whole foods  \n",
       "4  edamam, whole foods  "
      ]
     },
     "execution_count": 53,
     "metadata": {},
     "output_type": "execute_result"
    }
   ],
   "source": [
    "df2.head()"
   ]
  },
  {
   "cell_type": "code",
   "execution_count": 54,
   "id": "4eec9e28-cc0b-4ef5-b26d-888e28ecdfad",
   "metadata": {},
   "outputs": [
    {
     "data": {
      "text/html": [
       "<div>\n",
       "<style scoped>\n",
       "    .dataframe tbody tr th:only-of-type {\n",
       "        vertical-align: middle;\n",
       "    }\n",
       "\n",
       "    .dataframe tbody tr th {\n",
       "        vertical-align: top;\n",
       "    }\n",
       "\n",
       "    .dataframe thead th {\n",
       "        text-align: right;\n",
       "    }\n",
       "</style>\n",
       "<table border=\"1\" class=\"dataframe\">\n",
       "  <thead>\n",
       "    <tr style=\"text-align: right;\">\n",
       "      <th></th>\n",
       "      <th>name</th>\n",
       "      <th>calorie</th>\n",
       "      <th>protein</th>\n",
       "      <th>fat</th>\n",
       "      <th>sodium</th>\n",
       "      <th>fiber</th>\n",
       "      <th>carbo</th>\n",
       "      <th>sugars</th>\n",
       "      <th>potass</th>\n",
       "      <th>cups</th>\n",
       "      <th>source</th>\n",
       "    </tr>\n",
       "  </thead>\n",
       "  <tbody>\n",
       "    <tr>\n",
       "      <th>0</th>\n",
       "      <td>100% Bran</td>\n",
       "      <td>70</td>\n",
       "      <td>4</td>\n",
       "      <td>1</td>\n",
       "      <td>130</td>\n",
       "      <td>10.0</td>\n",
       "      <td>5.0</td>\n",
       "      <td>6</td>\n",
       "      <td>280</td>\n",
       "      <td>0.33</td>\n",
       "      <td>kaggle</td>\n",
       "    </tr>\n",
       "    <tr>\n",
       "      <th>1</th>\n",
       "      <td>100% Natural Bran</td>\n",
       "      <td>120</td>\n",
       "      <td>3</td>\n",
       "      <td>5</td>\n",
       "      <td>15</td>\n",
       "      <td>2.0</td>\n",
       "      <td>8.0</td>\n",
       "      <td>8</td>\n",
       "      <td>135</td>\n",
       "      <td>1.00</td>\n",
       "      <td>kaggle</td>\n",
       "    </tr>\n",
       "    <tr>\n",
       "      <th>2</th>\n",
       "      <td>All-Bran</td>\n",
       "      <td>70</td>\n",
       "      <td>4</td>\n",
       "      <td>1</td>\n",
       "      <td>260</td>\n",
       "      <td>9.0</td>\n",
       "      <td>7.0</td>\n",
       "      <td>5</td>\n",
       "      <td>320</td>\n",
       "      <td>0.33</td>\n",
       "      <td>kaggle</td>\n",
       "    </tr>\n",
       "    <tr>\n",
       "      <th>3</th>\n",
       "      <td>All-Bran with Extra Fiber</td>\n",
       "      <td>50</td>\n",
       "      <td>4</td>\n",
       "      <td>0</td>\n",
       "      <td>140</td>\n",
       "      <td>14.0</td>\n",
       "      <td>8.0</td>\n",
       "      <td>0</td>\n",
       "      <td>330</td>\n",
       "      <td>0.50</td>\n",
       "      <td>kaggle</td>\n",
       "    </tr>\n",
       "    <tr>\n",
       "      <th>4</th>\n",
       "      <td>Almond Delight</td>\n",
       "      <td>110</td>\n",
       "      <td>2</td>\n",
       "      <td>2</td>\n",
       "      <td>200</td>\n",
       "      <td>1.0</td>\n",
       "      <td>14.0</td>\n",
       "      <td>8</td>\n",
       "      <td>-1</td>\n",
       "      <td>0.75</td>\n",
       "      <td>kaggle</td>\n",
       "    </tr>\n",
       "    <tr>\n",
       "      <th>...</th>\n",
       "      <td>...</td>\n",
       "      <td>...</td>\n",
       "      <td>...</td>\n",
       "      <td>...</td>\n",
       "      <td>...</td>\n",
       "      <td>...</td>\n",
       "      <td>...</td>\n",
       "      <td>...</td>\n",
       "      <td>...</td>\n",
       "      <td>...</td>\n",
       "      <td>...</td>\n",
       "    </tr>\n",
       "    <tr>\n",
       "      <th>72</th>\n",
       "      <td>Triples</td>\n",
       "      <td>110</td>\n",
       "      <td>2</td>\n",
       "      <td>1</td>\n",
       "      <td>250</td>\n",
       "      <td>0.0</td>\n",
       "      <td>21.0</td>\n",
       "      <td>3</td>\n",
       "      <td>60</td>\n",
       "      <td>0.75</td>\n",
       "      <td>kaggle</td>\n",
       "    </tr>\n",
       "    <tr>\n",
       "      <th>73</th>\n",
       "      <td>Trix</td>\n",
       "      <td>110</td>\n",
       "      <td>1</td>\n",
       "      <td>1</td>\n",
       "      <td>140</td>\n",
       "      <td>0.0</td>\n",
       "      <td>13.0</td>\n",
       "      <td>12</td>\n",
       "      <td>25</td>\n",
       "      <td>1.00</td>\n",
       "      <td>kaggle</td>\n",
       "    </tr>\n",
       "    <tr>\n",
       "      <th>74</th>\n",
       "      <td>Wheat Chex</td>\n",
       "      <td>100</td>\n",
       "      <td>3</td>\n",
       "      <td>1</td>\n",
       "      <td>230</td>\n",
       "      <td>3.0</td>\n",
       "      <td>17.0</td>\n",
       "      <td>3</td>\n",
       "      <td>115</td>\n",
       "      <td>0.67</td>\n",
       "      <td>kaggle</td>\n",
       "    </tr>\n",
       "    <tr>\n",
       "      <th>75</th>\n",
       "      <td>Wheaties</td>\n",
       "      <td>100</td>\n",
       "      <td>3</td>\n",
       "      <td>1</td>\n",
       "      <td>200</td>\n",
       "      <td>3.0</td>\n",
       "      <td>17.0</td>\n",
       "      <td>3</td>\n",
       "      <td>110</td>\n",
       "      <td>1.00</td>\n",
       "      <td>kaggle</td>\n",
       "    </tr>\n",
       "    <tr>\n",
       "      <th>76</th>\n",
       "      <td>Wheaties Honey Gold</td>\n",
       "      <td>110</td>\n",
       "      <td>2</td>\n",
       "      <td>1</td>\n",
       "      <td>200</td>\n",
       "      <td>1.0</td>\n",
       "      <td>16.0</td>\n",
       "      <td>8</td>\n",
       "      <td>60</td>\n",
       "      <td>0.75</td>\n",
       "      <td>kaggle</td>\n",
       "    </tr>\n",
       "  </tbody>\n",
       "</table>\n",
       "<p>74 rows × 11 columns</p>\n",
       "</div>"
      ],
      "text/plain": [
       "                         name  calorie  protein  fat  sodium  fiber  carbo  \\\n",
       "0                   100% Bran       70        4    1     130   10.0    5.0   \n",
       "1           100% Natural Bran      120        3    5      15    2.0    8.0   \n",
       "2                    All-Bran       70        4    1     260    9.0    7.0   \n",
       "3   All-Bran with Extra Fiber       50        4    0     140   14.0    8.0   \n",
       "4              Almond Delight      110        2    2     200    1.0   14.0   \n",
       "..                        ...      ...      ...  ...     ...    ...    ...   \n",
       "72                    Triples      110        2    1     250    0.0   21.0   \n",
       "73                       Trix      110        1    1     140    0.0   13.0   \n",
       "74                 Wheat Chex      100        3    1     230    3.0   17.0   \n",
       "75                   Wheaties      100        3    1     200    3.0   17.0   \n",
       "76        Wheaties Honey Gold      110        2    1     200    1.0   16.0   \n",
       "\n",
       "    sugars  potass  cups  source  \n",
       "0        6     280  0.33  kaggle  \n",
       "1        8     135  1.00  kaggle  \n",
       "2        5     320  0.33  kaggle  \n",
       "3        0     330  0.50  kaggle  \n",
       "4        8      -1  0.75  kaggle  \n",
       "..     ...     ...   ...     ...  \n",
       "72       3      60  0.75  kaggle  \n",
       "73      12      25  1.00  kaggle  \n",
       "74       3     115  0.67  kaggle  \n",
       "75       3     110  1.00  kaggle  \n",
       "76       8      60  0.75  kaggle  \n",
       "\n",
       "[74 rows x 11 columns]"
      ]
     },
     "execution_count": 54,
     "metadata": {},
     "output_type": "execute_result"
    }
   ],
   "source": [
    "df1 = df1.rename(columns = {\"calories\":\"calorie\"})\n",
    "df1"
   ]
  },
  {
   "cell_type": "code",
   "execution_count": 55,
   "id": "0661579a-cb7f-4ef3-970a-b8ec736debe9",
   "metadata": {},
   "outputs": [],
   "source": [
    "frames = [df1,df2]"
   ]
  },
  {
   "cell_type": "code",
   "execution_count": 56,
   "id": "8f6039ab-f5ff-4991-86e3-bc8b706f209d",
   "metadata": {},
   "outputs": [],
   "source": [
    "result = pd.concat(frames)"
   ]
  },
  {
   "cell_type": "code",
   "execution_count": 66,
   "id": "a6f49505-b09c-49b5-b2da-0088f9827988",
   "metadata": {},
   "outputs": [
    {
     "data": {
      "text/html": [
       "<div>\n",
       "<style scoped>\n",
       "    .dataframe tbody tr th:only-of-type {\n",
       "        vertical-align: middle;\n",
       "    }\n",
       "\n",
       "    .dataframe tbody tr th {\n",
       "        vertical-align: top;\n",
       "    }\n",
       "\n",
       "    .dataframe thead th {\n",
       "        text-align: right;\n",
       "    }\n",
       "</style>\n",
       "<table border=\"1\" class=\"dataframe\">\n",
       "  <thead>\n",
       "    <tr style=\"text-align: right;\">\n",
       "      <th></th>\n",
       "      <th>name</th>\n",
       "      <th>calorie</th>\n",
       "      <th>protein</th>\n",
       "      <th>fat</th>\n",
       "      <th>sodium</th>\n",
       "      <th>fiber</th>\n",
       "      <th>carbo</th>\n",
       "      <th>sugars</th>\n",
       "      <th>potass</th>\n",
       "      <th>cups</th>\n",
       "      <th>source</th>\n",
       "    </tr>\n",
       "  </thead>\n",
       "  <tbody>\n",
       "    <tr>\n",
       "      <th>0</th>\n",
       "      <td>100% Bran</td>\n",
       "      <td>70.000000</td>\n",
       "      <td>4.000000</td>\n",
       "      <td>1.000000</td>\n",
       "      <td>130.00000</td>\n",
       "      <td>10.000000</td>\n",
       "      <td>5.000000</td>\n",
       "      <td>6.000000</td>\n",
       "      <td>280.000000</td>\n",
       "      <td>0.33</td>\n",
       "      <td>kaggle</td>\n",
       "    </tr>\n",
       "    <tr>\n",
       "      <th>1</th>\n",
       "      <td>100% Natural Bran</td>\n",
       "      <td>120.000000</td>\n",
       "      <td>3.000000</td>\n",
       "      <td>5.000000</td>\n",
       "      <td>15.00000</td>\n",
       "      <td>2.000000</td>\n",
       "      <td>8.000000</td>\n",
       "      <td>8.000000</td>\n",
       "      <td>135.000000</td>\n",
       "      <td>1.00</td>\n",
       "      <td>kaggle</td>\n",
       "    </tr>\n",
       "    <tr>\n",
       "      <th>2</th>\n",
       "      <td>All-Bran</td>\n",
       "      <td>70.000000</td>\n",
       "      <td>4.000000</td>\n",
       "      <td>1.000000</td>\n",
       "      <td>260.00000</td>\n",
       "      <td>9.000000</td>\n",
       "      <td>7.000000</td>\n",
       "      <td>5.000000</td>\n",
       "      <td>320.000000</td>\n",
       "      <td>0.33</td>\n",
       "      <td>kaggle</td>\n",
       "    </tr>\n",
       "    <tr>\n",
       "      <th>3</th>\n",
       "      <td>All-Bran with Extra Fiber</td>\n",
       "      <td>50.000000</td>\n",
       "      <td>4.000000</td>\n",
       "      <td>0.000000</td>\n",
       "      <td>140.00000</td>\n",
       "      <td>14.000000</td>\n",
       "      <td>8.000000</td>\n",
       "      <td>0.000000</td>\n",
       "      <td>330.000000</td>\n",
       "      <td>0.50</td>\n",
       "      <td>kaggle</td>\n",
       "    </tr>\n",
       "    <tr>\n",
       "      <th>4</th>\n",
       "      <td>Almond Delight</td>\n",
       "      <td>110.000000</td>\n",
       "      <td>2.000000</td>\n",
       "      <td>2.000000</td>\n",
       "      <td>200.00000</td>\n",
       "      <td>1.000000</td>\n",
       "      <td>14.000000</td>\n",
       "      <td>8.000000</td>\n",
       "      <td>-1.000000</td>\n",
       "      <td>0.75</td>\n",
       "      <td>kaggle</td>\n",
       "    </tr>\n",
       "    <tr>\n",
       "      <th>...</th>\n",
       "      <td>...</td>\n",
       "      <td>...</td>\n",
       "      <td>...</td>\n",
       "      <td>...</td>\n",
       "      <td>...</td>\n",
       "      <td>...</td>\n",
       "      <td>...</td>\n",
       "      <td>...</td>\n",
       "      <td>...</td>\n",
       "      <td>...</td>\n",
       "      <td>...</td>\n",
       "    </tr>\n",
       "    <tr>\n",
       "      <th>0</th>\n",
       "      <td>Honey Nut Cheerios</td>\n",
       "      <td>393.000000</td>\n",
       "      <td>7.140000</td>\n",
       "      <td>5.360000</td>\n",
       "      <td>571.00000</td>\n",
       "      <td>7.100000</td>\n",
       "      <td>78.570000</td>\n",
       "      <td>32.139999</td>\n",
       "      <td>411.000000</td>\n",
       "      <td>0.75</td>\n",
       "      <td>edamam, whole foods</td>\n",
       "    </tr>\n",
       "    <tr>\n",
       "      <th>1</th>\n",
       "      <td>Cinnamon Toast Crunch Cereal</td>\n",
       "      <td>419.000000</td>\n",
       "      <td>3.230000</td>\n",
       "      <td>9.680000</td>\n",
       "      <td>581.00000</td>\n",
       "      <td>6.500000</td>\n",
       "      <td>80.650002</td>\n",
       "      <td>29.030001</td>\n",
       "      <td>177.000000</td>\n",
       "      <td>0.75</td>\n",
       "      <td>edamam, whole foods</td>\n",
       "    </tr>\n",
       "    <tr>\n",
       "      <th>2</th>\n",
       "      <td>Honey Nut Cheerios</td>\n",
       "      <td>393.000000</td>\n",
       "      <td>7.140000</td>\n",
       "      <td>5.360000</td>\n",
       "      <td>571.00000</td>\n",
       "      <td>7.100000</td>\n",
       "      <td>78.570000</td>\n",
       "      <td>32.139999</td>\n",
       "      <td>411.000000</td>\n",
       "      <td>0.75</td>\n",
       "      <td>edamam, whole foods</td>\n",
       "    </tr>\n",
       "    <tr>\n",
       "      <th>3</th>\n",
       "      <td>Lucky Charms Cereal Frosted Toasted Oat, With ...</td>\n",
       "      <td>407.407407</td>\n",
       "      <td>7.407407</td>\n",
       "      <td>3.703704</td>\n",
       "      <td>629.62963</td>\n",
       "      <td>7.407407</td>\n",
       "      <td>81.481481</td>\n",
       "      <td>37.037037</td>\n",
       "      <td>185.185185</td>\n",
       "      <td>0.75</td>\n",
       "      <td>edamam, whole foods</td>\n",
       "    </tr>\n",
       "    <tr>\n",
       "      <th>4</th>\n",
       "      <td>Cheerios Cereal</td>\n",
       "      <td>357.000000</td>\n",
       "      <td>10.710000</td>\n",
       "      <td>7.140000</td>\n",
       "      <td>500.00000</td>\n",
       "      <td>10.700000</td>\n",
       "      <td>71.430000</td>\n",
       "      <td>3.570000</td>\n",
       "      <td>643.000000</td>\n",
       "      <td>1.00</td>\n",
       "      <td>edamam, whole foods</td>\n",
       "    </tr>\n",
       "  </tbody>\n",
       "</table>\n",
       "<p>79 rows × 11 columns</p>\n",
       "</div>"
      ],
      "text/plain": [
       "                                                 name     calorie    protein  \\\n",
       "0                                           100% Bran   70.000000   4.000000   \n",
       "1                                   100% Natural Bran  120.000000   3.000000   \n",
       "2                                            All-Bran   70.000000   4.000000   \n",
       "3                           All-Bran with Extra Fiber   50.000000   4.000000   \n",
       "4                                      Almond Delight  110.000000   2.000000   \n",
       "..                                                ...         ...        ...   \n",
       "0                                  Honey Nut Cheerios  393.000000   7.140000   \n",
       "1                        Cinnamon Toast Crunch Cereal  419.000000   3.230000   \n",
       "2                                  Honey Nut Cheerios  393.000000   7.140000   \n",
       "3   Lucky Charms Cereal Frosted Toasted Oat, With ...  407.407407   7.407407   \n",
       "4                                     Cheerios Cereal  357.000000  10.710000   \n",
       "\n",
       "         fat     sodium      fiber      carbo     sugars      potass  cups  \\\n",
       "0   1.000000  130.00000  10.000000   5.000000   6.000000  280.000000  0.33   \n",
       "1   5.000000   15.00000   2.000000   8.000000   8.000000  135.000000  1.00   \n",
       "2   1.000000  260.00000   9.000000   7.000000   5.000000  320.000000  0.33   \n",
       "3   0.000000  140.00000  14.000000   8.000000   0.000000  330.000000  0.50   \n",
       "4   2.000000  200.00000   1.000000  14.000000   8.000000   -1.000000  0.75   \n",
       "..       ...        ...        ...        ...        ...         ...   ...   \n",
       "0   5.360000  571.00000   7.100000  78.570000  32.139999  411.000000  0.75   \n",
       "1   9.680000  581.00000   6.500000  80.650002  29.030001  177.000000  0.75   \n",
       "2   5.360000  571.00000   7.100000  78.570000  32.139999  411.000000  0.75   \n",
       "3   3.703704  629.62963   7.407407  81.481481  37.037037  185.185185  0.75   \n",
       "4   7.140000  500.00000  10.700000  71.430000   3.570000  643.000000  1.00   \n",
       "\n",
       "                 source  \n",
       "0                kaggle  \n",
       "1                kaggle  \n",
       "2                kaggle  \n",
       "3                kaggle  \n",
       "4                kaggle  \n",
       "..                  ...  \n",
       "0   edamam, whole foods  \n",
       "1   edamam, whole foods  \n",
       "2   edamam, whole foods  \n",
       "3   edamam, whole foods  \n",
       "4   edamam, whole foods  \n",
       "\n",
       "[79 rows x 11 columns]"
      ]
     },
     "execution_count": 66,
     "metadata": {},
     "output_type": "execute_result"
    }
   ],
   "source": [
    "result"
   ]
  },
  {
   "cell_type": "code",
   "execution_count": 67,
   "id": "5d270321-faaa-4fc2-a9d0-187fd990002a",
   "metadata": {},
   "outputs": [],
   "source": [
    "import seaborn as sns"
   ]
  },
  {
   "cell_type": "code",
   "execution_count": 68,
   "id": "ee245023-5a54-45ae-9909-7e8975850e04",
   "metadata": {},
   "outputs": [
    {
     "data": {
      "text/plain": [
       "<AxesSubplot:>"
      ]
     },
     "execution_count": 68,
     "metadata": {},
     "output_type": "execute_result"
    },
    {
     "data": {
      "image/png": "[encoded data removed]",
      "text/plain": [
       "<Figure size 432x288 with 1 Axes>"
      ]
     },
     "metadata": {
      "needs_background": "light"
     },
     "output_type": "display_data"
    }
   ],
   "source": [
    "sns.heatmap(result.isnull(),yticklabels=False,cbar=False,cmap='viridis')"
   ]
  },
  {
   "cell_type": "markdown",
   "id": "57ed8ef7-fa45-40d3-adf3-319d42043028",
   "metadata": {},
   "source": [
    "# Descriptive Statistics"
   ]
  },
  {
   "cell_type": "code",
   "execution_count": 61,
   "id": "6b2b9852-1106-47ac-baed-a824a80f695f",
   "metadata": {},
   "outputs": [
    {
     "data": {
      "image/png": "[encoded data removed]",
      "text/plain": [
       "<Figure size 432x288 with 1 Axes>"
      ]
     },
     "metadata": {
      "needs_background": "light"
     },
     "output_type": "display_data"
    },
    {
     "name": "stdout",
     "output_type": "stream",
     "text": [
      "mean: 125.3089545241444\n",
      "median: 110.0\n",
      "min: 50.0\n",
      "max: 419.0\n",
      "stdev: 73.02128272297129\n",
      "______________________________________________________________________\n",
      "\n"
     ]
    },
    {
     "data": {
      "image/png": "[encoded data removed]",
      "text/plain": [
       "<Figure size 432x288 with 1 Axes>"
      ]
     },
     "metadata": {
      "needs_background": "light"
     },
     "output_type": "display_data"
    },
    {
     "name": "stdout",
     "output_type": "stream",
     "text": [
      "mean: 2.780093761994925\n",
      "median: 3.0\n",
      "min: 1.0\n",
      "max: 10.710000038146973\n",
      "stdev: 1.6462120346392324\n",
      "______________________________________________________________________\n",
      "\n"
     ]
    },
    {
     "data": {
      "image/png": "[encoded data removed]",
      "text/plain": [
       "<Figure size 432x288 with 1 Axes>"
      ]
     },
     "metadata": {
      "needs_background": "light"
     },
     "output_type": "display_data"
    },
    {
     "name": "stdout",
     "output_type": "stream",
     "text": [
      "mean: 1.3448570144606822\n",
      "median: 1.0\n",
      "min: 0.0\n",
      "max: 9.680000305175781\n",
      "stdev: 1.6945464457503874\n",
      "______________________________________________________________________\n",
      "\n"
     ]
    },
    {
     "data": {
      "image/png": "[encoded data removed]",
      "text/plain": [
       "<Figure size 432x288 with 1 Axes>"
      ]
     },
     "metadata": {
      "needs_background": "light"
     },
     "output_type": "display_data"
    },
    {
     "name": "stdout",
     "output_type": "stream",
     "text": [
      "mean: 190.72948898265355\n",
      "median: 180.0\n",
      "min: 0.0\n",
      "max: 629.6296296296297\n",
      "stdev: 126.75234135643575\n",
      "______________________________________________________________________\n",
      "\n"
     ]
    },
    {
     "data": {
      "image/png": "[encoded data removed]",
      "text/plain": [
       "<Figure size 432x288 with 1 Axes>"
      ]
     },
     "metadata": {
      "needs_background": "light"
     },
     "output_type": "display_data"
    },
    {
     "name": "stdout",
     "output_type": "stream",
     "text": [
      "mean: 2.54186591172073\n",
      "median: 2.0\n",
      "min: 0.0\n",
      "max: 14.0\n",
      "stdev: 2.7315914750893255\n",
      "______________________________________________________________________\n",
      "\n"
     ]
    },
    {
     "data": {
      "image/png": "[encoded data removed]",
      "text/plain": [
       "<Figure size 432x288 with 1 Axes>"
      ]
     },
     "metadata": {
      "needs_background": "light"
     },
     "output_type": "display_data"
    },
    {
     "name": "stdout",
     "output_type": "stream",
     "text": [
      "mean: 18.717740287369427\n",
      "median: 15.0\n",
      "min: 5.0\n",
      "max: 81.48148148148148\n",
      "stdev: 16.018994695585157\n",
      "______________________________________________________________________\n",
      "\n"
     ]
    },
    {
     "data": {
      "image/png": "[encoded data removed]",
      "text/plain": [
       "<Figure size 432x288 with 1 Axes>"
      ]
     },
     "metadata": {
      "needs_background": "light"
     },
     "output_type": "display_data"
    },
    {
     "name": "stdout",
     "output_type": "stream",
     "text": [
      "mean: 8.416671347293953\n",
      "median: 7.0\n",
      "min: 0.0\n",
      "max: 37.03703703703704\n",
      "stdev: 7.05091274733887\n",
      "______________________________________________________________________\n",
      "\n"
     ]
    },
    {
     "data": {
      "image/png": "[encoded data removed]",
      "text/plain": [
       "<Figure size 432x288 with 1 Axes>"
      ]
     },
     "metadata": {
      "needs_background": "light"
     },
     "output_type": "display_data"
    },
    {
     "name": "stdout",
     "output_type": "stream",
     "text": [
      "mean: 114.19221753398968\n",
      "median: 90.0\n",
      "min: -1.0\n",
      "max: 643.0\n",
      "stdev: 105.16412153434145\n",
      "______________________________________________________________________\n",
      "\n"
     ]
    },
    {
     "data": {
      "image/png": "[encoded data removed]",
      "text/plain": [
       "<Figure size 432x288 with 1 Axes>"
      ]
     },
     "metadata": {
      "needs_background": "light"
     },
     "output_type": "display_data"
    },
    {
     "name": "stdout",
     "output_type": "stream",
     "text": [
      "mean: 0.8170886075949368\n",
      "median: 0.75\n",
      "min: 0.25\n",
      "max: 1.5\n",
      "stdev: 0.22870960144171065\n",
      "______________________________________________________________________\n",
      "\n"
     ]
    }
   ],
   "source": [
    "import numpy as np\n",
    "import matplotlib.pyplot as plt\n",
    "import seaborn as sns\n",
    "%matplotlib inline\n",
    "subject = result.select_dtypes(include='number')\n",
    "for x in subject:\n",
    "    subject[x].plot.hist(bins = 30)\n",
    "    plt.xlabel(x)\n",
    "    plt.show()\n",
    "    print(\"mean:\",subject[x].mean())\n",
    "    print(\"median:\",subject[x].median())\n",
    "    print(\"min:\",subject[x].min())\n",
    "    print(\"max:\",subject[x].max())\n",
    "    print(\"stdev:\",subject[x].std())\n",
    "    print(\"______________________________________________________________________\")\n",
    "    print(\"\")"
   ]
  },
  {
   "cell_type": "markdown",
   "id": "9233f816-61ab-4bde-a740-c694cdcc314e",
   "metadata": {},
   "source": [
    "# Scatter Plots\n",
    "\n"
   ]
  },
  {
   "cell_type": "code",
   "execution_count": 62,
   "id": "37ccf438-244c-4915-8709-e5bc87a1ee57",
   "metadata": {},
   "outputs": [
    {
     "name": "stdout",
     "output_type": "stream",
     "text": [
      "calorie carbo : 0.9543697664538403\n",
      "carbo calorie : 0.9543697664538404\n"
     ]
    }
   ],
   "source": [
    "target = result.select_dtypes(include='number')\n",
    "target_pairs = []\n",
    "for x in target: \n",
    "    for y in target:\n",
    "        if 0.99 > target[x].corr(target[y]) > .9:  \n",
    "            print(x,y, \":\", target[x].corr(target[y]))\n",
    "            target_pairs.append([x,y])\n",
    "        "
   ]
  },
  {
   "cell_type": "code",
   "execution_count": 63,
   "id": "a1463450-8d20-45ed-9665-6f7599bd0c1c",
   "metadata": {},
   "outputs": [
    {
     "data": {
      "image/png": "[encoded data removed]",
      "text/plain": [
       "<Figure size 432x288 with 1 Axes>"
      ]
     },
     "metadata": {
      "needs_background": "light"
     },
     "output_type": "display_data"
    }
   ],
   "source": [
    "x = result['calorie']\n",
    "y = result['carbo']\n",
    "plt.scatter(x, y)\n",
    "plt.xlabel(\"calorie\")\n",
    "plt.ylabel(\"carbo\")\n",
    "plt.show()"
   ]
  },
  {
   "cell_type": "code",
   "execution_count": 64,
   "id": "90793612-7356-40c0-b5ba-413f3f76bc99",
   "metadata": {},
   "outputs": [
    {
     "name": "stdout",
     "output_type": "stream",
     "text": [
      "calorie carbo : 0.9543697664538403\n",
      "carbo calorie : 0.9543697664538404\n"
     ]
    }
   ],
   "source": [
    "target = result.select_dtypes(include='number')\n",
    "target_pairs = []\n",
    "for x in target: \n",
    "    for y in target:\n",
    "        if 0.99 > target[x].corr(target[y]) > .9:  \n",
    "            print(x,y, \":\", target[x].corr(target[y]))\n",
    "            target_pairs.append([x,y])"
   ]
  },
  {
   "cell_type": "code",
   "execution_count": 65,
   "id": "16e9a7da-ec34-4000-8452-49afb132a82a",
   "metadata": {},
   "outputs": [],
   "source": [
    "def initialize_centroids(k, data):\n",
    "\n",
    "    n_dims = data.shape[1]  #number of columns\n",
    "\n",
    "    centroid_min = data.min()\n",
    "    centroid_max = data.max()\n",
    "    centroids = []\n",
    "    \n",
    "    for c in range(k):\n",
    "        centroid = np.zeros(n_dims)\n",
    "        for n in range(n_dims):\n",
    "            centroid[n] = np.random.uniform(centroid_min[n], centroid_max[n])\n",
    "        centroids.append(centroid)\n",
    "\n",
    "    centroids = pd.DataFrame(centroids, columns = data.columns)\n",
    "\n",
    "    return centroids"
   ]
  },
  {
   "cell_type": "code",
   "execution_count": 69,
   "id": "010733fc-53a9-4a75-acdb-7ed94d698b4c",
   "metadata": {},
   "outputs": [
    {
     "data": {
      "text/html": [
       "<div>\n",
       "<style scoped>\n",
       "    .dataframe tbody tr th:only-of-type {\n",
       "        vertical-align: middle;\n",
       "    }\n",
       "\n",
       "    .dataframe tbody tr th {\n",
       "        vertical-align: top;\n",
       "    }\n",
       "\n",
       "    .dataframe thead th {\n",
       "        text-align: right;\n",
       "    }\n",
       "</style>\n",
       "<table border=\"1\" class=\"dataframe\">\n",
       "  <thead>\n",
       "    <tr style=\"text-align: right;\">\n",
       "      <th></th>\n",
       "      <th>calorie</th>\n",
       "      <th>carbo</th>\n",
       "    </tr>\n",
       "  </thead>\n",
       "  <tbody>\n",
       "    <tr>\n",
       "      <th>0</th>\n",
       "      <td>244.563571</td>\n",
       "      <td>26.556736</td>\n",
       "    </tr>\n",
       "    <tr>\n",
       "      <th>1</th>\n",
       "      <td>244.382948</td>\n",
       "      <td>34.288493</td>\n",
       "    </tr>\n",
       "    <tr>\n",
       "      <th>2</th>\n",
       "      <td>299.619774</td>\n",
       "      <td>7.657867</td>\n",
       "    </tr>\n",
       "  </tbody>\n",
       "</table>\n",
       "</div>"
      ],
      "text/plain": [
       "      calorie      carbo\n",
       "0  244.563571  26.556736\n",
       "1  244.382948  34.288493\n",
       "2  299.619774   7.657867"
      ]
     },
     "execution_count": 69,
     "metadata": {},
     "output_type": "execute_result"
    }
   ],
   "source": [
    "data = result[['calorie','carbo']]\n",
    "centroids = initialize_centroids(3, data)\n",
    "centroids"
   ]
  },
  {
   "cell_type": "code",
   "execution_count": 70,
   "id": "d40a0759-26e0-4223-bcb7-1f8001983f63",
   "metadata": {},
   "outputs": [
    {
     "data": {
      "image/png": "[encoded data removed]",
      "text/plain": [
       "<Figure size 432x288 with 1 Axes>"
      ]
     },
     "metadata": {
      "needs_background": "light"
     },
     "output_type": "display_data"
    }
   ],
   "source": [
    "plt.scatter(result['calorie'], result['carbo'])\n",
    "plt.title(\"Calories vs. Carbs\")\n",
    "plt.xlabel(\"Calories\")\n",
    "plt.ylabel(\"Carbs\")\n",
    "\n",
    "plt.scatter(centroids['calorie'], centroids['carbo'], s=80, c='red', marker = \"*\")\n",
    "\n",
    "plt.show()"
   ]
  },
  {
   "cell_type": "code",
   "execution_count": 71,
   "id": "2368e01d-7117-462c-9ade-2e94324e5bc8",
   "metadata": {},
   "outputs": [],
   "source": [
    "box = np.array(data.iloc[0])"
   ]
  },
  {
   "cell_type": "code",
   "execution_count": 72,
   "id": "f9e4ed3c-027d-40b6-8f0d-4ce2d45ffa0f",
   "metadata": {},
   "outputs": [
    {
     "name": "stdout",
     "output_type": "stream",
     "text": [
      "1st product has 70.0 grams of sodium and 5.0 grams of carbs per serving.\n",
      "Centroid 1 has  244.6 grams of sodium and 26.6 grams of carbs per serving.\n"
     ]
    }
   ],
   "source": [
    "print(f\"1st product has {box[0]} grams of sodium and {box[1]} grams of carbs per serving.\")\n",
    "c1 =np.array(centroids.iloc[0])\n",
    "print(f\"Centroid 1 has  {round(c1[0],1)} grams of sodium and {round(c1[1],1)} grams of carbs per serving.\")"
   ]
  },
  {
   "cell_type": "code",
   "execution_count": 73,
   "id": "17a44159-0d96-456b-bacd-5f1f27eaaf9b",
   "metadata": {},
   "outputs": [],
   "source": [
    "def dist(a,b):\n",
    "    '''\n",
    "    Given two Numpy Arrays, calculates the root of the sum of squared errores.\n",
    "    '''\n",
    "    d = np.sqrt(np.sum((a-b)**2))\n",
    "\n",
    "    return d "
   ]
  },
  {
   "cell_type": "code",
   "execution_count": 74,
   "id": "a17064ce-943f-40f1-8662-767bcfe301bd",
   "metadata": {},
   "outputs": [
    {
     "name": "stdout",
     "output_type": "stream",
     "text": [
      "The distance between the first product and centroid # 1 is 175.89\n",
      "The distance between the first product and centroid # 2 is 176.83\n",
      "The distance between the first product and centroid # 3 is 229.64\n"
     ]
    }
   ],
   "source": [
    "for i in range(3):\n",
    "    c = np.array(centroids.iloc[i])\n",
    "    d = dist(box,c)\n",
    "    print(f\"The distance between the first product and centroid # {i+1} is {round(d,2)}\")   "
   ]
  },
  {
   "cell_type": "code",
   "execution_count": 75,
   "id": "cccbc646-a534-4954-9551-cfa433477d3c",
   "metadata": {},
   "outputs": [],
   "source": [
    "def classify(box,centroids):\n",
    "    k = centroids.shape[0]\n",
    "    lowest = float('inf')\n",
    "    cluster = 0\n",
    "    for i in range(k):\n",
    "        c = np.array(centroids.iloc[i])\n",
    "        d = dist(box,c)\n",
    "        if d < lowest:\n",
    "            lowest = d\n",
    "            cluster = i\n",
    "    return cluster,lowest\n",
    "    "
   ]
  },
  {
   "cell_type": "code",
   "execution_count": 76,
   "id": "18be0dbd-916b-4006-ac45-4bfbc85aeb7c",
   "metadata": {},
   "outputs": [],
   "source": [
    "cl,di = classify(box,centroids)"
   ]
  },
  {
   "cell_type": "code",
   "execution_count": 77,
   "id": "a5e6159c-5969-4c73-af31-14c7f0e3ab93",
   "metadata": {},
   "outputs": [
    {
     "name": "stdout",
     "output_type": "stream",
     "text": [
      "The closest centroid is # 1 \n"
     ]
    }
   ],
   "source": [
    "print(f\"The closest centroid is # {cl+1} \")"
   ]
  },
  {
   "cell_type": "code",
   "execution_count": 78,
   "id": "9fc36df2-a26f-4ef4-aa75-70ae36b3eb7c",
   "metadata": {},
   "outputs": [
    {
     "data": {
      "image/png": "[encoded data removed]",
      "text/plain": [
       "<Figure size 432x288 with 1 Axes>"
      ]
     },
     "metadata": {
      "needs_background": "light"
     },
     "output_type": "display_data"
    }
   ],
   "source": [
    "plt.scatter(data.iloc[1:,0], data.iloc[1:,1],  marker = 'o', alpha = 0.2)\n",
    "plt.scatter(centroids.iloc[:,0], centroids.iloc[:,1],  marker = 'o', c = 'r')\n",
    "plt.scatter(data.iloc[0,0], data.iloc[0,1],  marker = 'o', c = 'g')\n",
    "for i in range(centroids.shape[0]):\n",
    "    plt.text(centroids.iloc[i,0]+1, centroids.iloc[i,1]+1, s = centroids.index[i]+1, c = 'r')"
   ]
  },
  {
   "cell_type": "code",
   "execution_count": 79,
   "id": "84c87c08-5f16-4a8c-90b1-b445120bc13f",
   "metadata": {},
   "outputs": [
    {
     "name": "stderr",
     "output_type": "stream",
     "text": [
      "<ipython-input-79-8ec0d80b7ce7>:26: SettingWithCopyWarning: \n",
      "A value is trying to be set on a copy of a slice from a DataFrame.\n",
      "Try using .loc[row_indexer,col_indexer] = value instead\n",
      "\n",
      "See the caveats in the documentation: https://pandas.pydata.org/pandas-docs/stable/user_guide/indexing.html#returning-a-view-versus-a-copy\n",
      "  data['centroid'], data['dist'] = assign_centroid(data.iloc[:,:2] ,centroids)\n"
     ]
    },
    {
     "data": {
      "text/html": [
       "<div>\n",
       "<style scoped>\n",
       "    .dataframe tbody tr th:only-of-type {\n",
       "        vertical-align: middle;\n",
       "    }\n",
       "\n",
       "    .dataframe tbody tr th {\n",
       "        vertical-align: top;\n",
       "    }\n",
       "\n",
       "    .dataframe thead th {\n",
       "        text-align: right;\n",
       "    }\n",
       "</style>\n",
       "<table border=\"1\" class=\"dataframe\">\n",
       "  <thead>\n",
       "    <tr style=\"text-align: right;\">\n",
       "      <th></th>\n",
       "      <th>centroid</th>\n",
       "      <th>dist</th>\n",
       "    </tr>\n",
       "  </thead>\n",
       "  <tbody>\n",
       "    <tr>\n",
       "      <th>0</th>\n",
       "      <td>0</td>\n",
       "      <td>175.889548</td>\n",
       "    </tr>\n",
       "    <tr>\n",
       "      <th>1</th>\n",
       "      <td>0</td>\n",
       "      <td>125.938221</td>\n",
       "    </tr>\n",
       "    <tr>\n",
       "      <th>2</th>\n",
       "      <td>0</td>\n",
       "      <td>175.655646</td>\n",
       "    </tr>\n",
       "    <tr>\n",
       "      <th>3</th>\n",
       "      <td>0</td>\n",
       "      <td>195.446503</td>\n",
       "    </tr>\n",
       "    <tr>\n",
       "      <th>4</th>\n",
       "      <td>0</td>\n",
       "      <td>135.148164</td>\n",
       "    </tr>\n",
       "  </tbody>\n",
       "</table>\n",
       "</div>"
      ],
      "text/plain": [
       "   centroid        dist\n",
       "0         0  175.889548\n",
       "1         0  125.938221\n",
       "2         0  175.655646\n",
       "3         0  195.446503\n",
       "4         0  135.148164"
      ]
     },
     "execution_count": 79,
     "metadata": {},
     "output_type": "execute_result"
    }
   ],
   "source": [
    "def assign_centroid(data, centroids):\n",
    "    '''\n",
    "    Receives a dataframe of data and centroids and returns a list assigning each observation a centroid.\n",
    "    data: a dataframe with all data that will be used.\n",
    "    centroids: a dataframe with the centroids. For assignment the index will be used.\n",
    "    '''\n",
    "\n",
    "    n_observations = data.shape[0]\n",
    "    centroid_assign = []\n",
    "    centroid_dist = []\n",
    "    k = centroids.shape[0]\n",
    "\n",
    "\n",
    "    for observation in range(n_observations):\n",
    "        \n",
    "        # calculate closest centroid and error\n",
    "        box = data.iloc[observation,:2]\n",
    "        cl,di = classify(box,centroids)\n",
    "                \n",
    "        # Assign values to lists\n",
    "        centroid_assign.append(cl)\n",
    "        centroid_dist.append(di)\n",
    "\n",
    "    return (centroid_assign,centroid_dist)\n",
    "\n",
    "data['centroid'], data['dist'] = assign_centroid(data.iloc[:,:2] ,centroids)\n",
    "data[['centroid', 'dist']].head()"
   ]
  },
  {
   "cell_type": "code",
   "execution_count": 80,
   "id": "4b3dd846-e556-48b0-9cb1-abc885b7f5ae",
   "metadata": {},
   "outputs": [
    {
     "data": {
      "image/png": "[encoded data removed]",
      "text/plain": [
       "<Figure size 432x288 with 1 Axes>"
      ]
     },
     "metadata": {
      "needs_background": "light"
     },
     "output_type": "display_data"
    }
   ],
   "source": [
    "colors = {0:'red', 1:'blue', 2:'green'}\n",
    "\n",
    "plt.scatter(data.iloc[:,0], data.iloc[:,1],  marker = 'o', c = data['centroid'].apply(lambda x: colors[x]), alpha = 0.5)\n",
    "plt.scatter(centroids.iloc[:,0], centroids.iloc[:,1],  marker = '*', s=150, \n",
    "           c = centroids.index.map(lambda x: colors[x]))\n",
    "plt.show()"
   ]
  },
  {
   "cell_type": "code",
   "execution_count": 81,
   "id": "0c6db2aa-d90e-4ed5-a817-2fe784ff5237",
   "metadata": {},
   "outputs": [
    {
     "name": "stdout",
     "output_type": "stream",
     "text": [
      "The total error so far: 10800.15\n"
     ]
    }
   ],
   "source": [
    "print(f\"The total error so far: {round(data['dist'].sum(),2)}\")"
   ]
  },
  {
   "cell_type": "code",
   "execution_count": 82,
   "id": "1ae70f78-693a-4e78-8923-8f7dfb6b55bd",
   "metadata": {},
   "outputs": [
    {
     "data": {
      "text/html": [
       "<div>\n",
       "<style scoped>\n",
       "    .dataframe tbody tr th:only-of-type {\n",
       "        vertical-align: middle;\n",
       "    }\n",
       "\n",
       "    .dataframe tbody tr th {\n",
       "        vertical-align: top;\n",
       "    }\n",
       "\n",
       "    .dataframe thead th {\n",
       "        text-align: right;\n",
       "    }\n",
       "</style>\n",
       "<table border=\"1\" class=\"dataframe\">\n",
       "  <thead>\n",
       "    <tr style=\"text-align: right;\">\n",
       "      <th></th>\n",
       "      <th>calorie</th>\n",
       "      <th>carbo</th>\n",
       "      <th>centroid</th>\n",
       "      <th>dist</th>\n",
       "    </tr>\n",
       "  </thead>\n",
       "  <tbody>\n",
       "    <tr>\n",
       "      <th>0</th>\n",
       "      <td>70.000000</td>\n",
       "      <td>5.000000</td>\n",
       "      <td>0</td>\n",
       "      <td>175.889548</td>\n",
       "    </tr>\n",
       "    <tr>\n",
       "      <th>1</th>\n",
       "      <td>120.000000</td>\n",
       "      <td>8.000000</td>\n",
       "      <td>0</td>\n",
       "      <td>125.938221</td>\n",
       "    </tr>\n",
       "    <tr>\n",
       "      <th>2</th>\n",
       "      <td>70.000000</td>\n",
       "      <td>7.000000</td>\n",
       "      <td>0</td>\n",
       "      <td>175.655646</td>\n",
       "    </tr>\n",
       "    <tr>\n",
       "      <th>3</th>\n",
       "      <td>50.000000</td>\n",
       "      <td>8.000000</td>\n",
       "      <td>0</td>\n",
       "      <td>195.446503</td>\n",
       "    </tr>\n",
       "    <tr>\n",
       "      <th>4</th>\n",
       "      <td>110.000000</td>\n",
       "      <td>14.000000</td>\n",
       "      <td>0</td>\n",
       "      <td>135.148164</td>\n",
       "    </tr>\n",
       "    <tr>\n",
       "      <th>...</th>\n",
       "      <td>...</td>\n",
       "      <td>...</td>\n",
       "      <td>...</td>\n",
       "      <td>...</td>\n",
       "    </tr>\n",
       "    <tr>\n",
       "      <th>0</th>\n",
       "      <td>393.000000</td>\n",
       "      <td>78.570000</td>\n",
       "      <td>2</td>\n",
       "      <td>117.253560</td>\n",
       "    </tr>\n",
       "    <tr>\n",
       "      <th>1</th>\n",
       "      <td>419.000000</td>\n",
       "      <td>80.650002</td>\n",
       "      <td>2</td>\n",
       "      <td>139.926731</td>\n",
       "    </tr>\n",
       "    <tr>\n",
       "      <th>2</th>\n",
       "      <td>393.000000</td>\n",
       "      <td>78.570000</td>\n",
       "      <td>2</td>\n",
       "      <td>117.253560</td>\n",
       "    </tr>\n",
       "    <tr>\n",
       "      <th>3</th>\n",
       "      <td>407.407407</td>\n",
       "      <td>81.481481</td>\n",
       "      <td>2</td>\n",
       "      <td>130.644939</td>\n",
       "    </tr>\n",
       "    <tr>\n",
       "      <th>4</th>\n",
       "      <td>357.000000</td>\n",
       "      <td>71.430000</td>\n",
       "      <td>2</td>\n",
       "      <td>85.786802</td>\n",
       "    </tr>\n",
       "  </tbody>\n",
       "</table>\n",
       "<p>79 rows × 4 columns</p>\n",
       "</div>"
      ],
      "text/plain": [
       "       calorie      carbo  centroid        dist\n",
       "0    70.000000   5.000000         0  175.889548\n",
       "1   120.000000   8.000000         0  125.938221\n",
       "2    70.000000   7.000000         0  175.655646\n",
       "3    50.000000   8.000000         0  195.446503\n",
       "4   110.000000  14.000000         0  135.148164\n",
       "..         ...        ...       ...         ...\n",
       "0   393.000000  78.570000         2  117.253560\n",
       "1   419.000000  80.650002         2  139.926731\n",
       "2   393.000000  78.570000         2  117.253560\n",
       "3   407.407407  81.481481         2  130.644939\n",
       "4   357.000000  71.430000         2   85.786802\n",
       "\n",
       "[79 rows x 4 columns]"
      ]
     },
     "execution_count": 82,
     "metadata": {},
     "output_type": "execute_result"
    }
   ],
   "source": [
    "data"
   ]
  },
  {
   "cell_type": "code",
   "execution_count": 83,
   "id": "d919bc55-ea7f-4e21-8989-572c1899bcfb",
   "metadata": {},
   "outputs": [],
   "source": [
    "centroids = data.groupby('centroid').agg('mean').reset_index(drop = True).drop(['dist'], axis = 1)"
   ]
  },
  {
   "cell_type": "code",
   "execution_count": 84,
   "id": "fb321e2c-6c91-4dae-b4cc-b4b8dc8cbd15",
   "metadata": {},
   "outputs": [
    {
     "data": {
      "image/png": "[encoded data removed]",
      "text/plain": [
       "<Figure size 432x288 with 1 Axes>"
      ]
     },
     "metadata": {
      "needs_background": "light"
     },
     "output_type": "display_data"
    }
   ],
   "source": [
    "colors = {0:'red', 1:'blue', 2:'green'}\n",
    "\n",
    "plt.scatter(data.iloc[:,0], data.iloc[:,1],  marker = 'o', c = data['centroid'].apply(lambda x: colors[x]), alpha = 0.5)\n",
    "plt.scatter(centroids.iloc[:,0], centroids.iloc[:,1],  marker = '*', s=150, \n",
    "           c = centroids.index.map(lambda x: colors[x]))\n",
    "plt.show()"
   ]
  },
  {
   "cell_type": "code",
   "execution_count": 85,
   "id": "64c5c6a4-0e3d-44d9-884f-a1ce890c7865",
   "metadata": {},
   "outputs": [
    {
     "name": "stderr",
     "output_type": "stream",
     "text": [
      "<ipython-input-85-5bc8253aa186>:1: SettingWithCopyWarning: \n",
      "A value is trying to be set on a copy of a slice from a DataFrame.\n",
      "Try using .loc[row_indexer,col_indexer] = value instead\n",
      "\n",
      "See the caveats in the documentation: https://pandas.pydata.org/pandas-docs/stable/user_guide/indexing.html#returning-a-view-versus-a-copy\n",
      "  data['centroid'], data['dist'] = assign_centroid(data.iloc[:,:2] ,centroids)\n"
     ]
    },
    {
     "data": {
      "text/html": [
       "<div>\n",
       "<style scoped>\n",
       "    .dataframe tbody tr th:only-of-type {\n",
       "        vertical-align: middle;\n",
       "    }\n",
       "\n",
       "    .dataframe tbody tr th {\n",
       "        vertical-align: top;\n",
       "    }\n",
       "\n",
       "    .dataframe thead th {\n",
       "        text-align: right;\n",
       "    }\n",
       "</style>\n",
       "<table border=\"1\" class=\"dataframe\">\n",
       "  <thead>\n",
       "    <tr style=\"text-align: right;\">\n",
       "      <th></th>\n",
       "      <th>centroid</th>\n",
       "      <th>dist</th>\n",
       "    </tr>\n",
       "  </thead>\n",
       "  <tbody>\n",
       "    <tr>\n",
       "      <th>0</th>\n",
       "      <td>0</td>\n",
       "      <td>38.407925</td>\n",
       "    </tr>\n",
       "    <tr>\n",
       "      <th>1</th>\n",
       "      <td>0</td>\n",
       "      <td>14.482276</td>\n",
       "    </tr>\n",
       "    <tr>\n",
       "      <th>2</th>\n",
       "      <td>0</td>\n",
       "      <td>37.952048</td>\n",
       "    </tr>\n",
       "    <tr>\n",
       "      <th>3</th>\n",
       "      <td>0</td>\n",
       "      <td>57.553792</td>\n",
       "    </tr>\n",
       "    <tr>\n",
       "      <th>4</th>\n",
       "      <td>0</td>\n",
       "      <td>2.923545</td>\n",
       "    </tr>\n",
       "  </tbody>\n",
       "</table>\n",
       "</div>"
      ],
      "text/plain": [
       "   centroid       dist\n",
       "0         0  38.407925\n",
       "1         0  14.482276\n",
       "2         0  37.952048\n",
       "3         0  57.553792\n",
       "4         0   2.923545"
      ]
     },
     "execution_count": 85,
     "metadata": {},
     "output_type": "execute_result"
    }
   ],
   "source": [
    "data['centroid'], data['dist'] = assign_centroid(data.iloc[:,:2] ,centroids)\n",
    "data[['centroid', 'dist']].head()"
   ]
  },
  {
   "cell_type": "code",
   "execution_count": 86,
   "id": "a3a0fad7-de20-4791-bba8-c10bab34b78a",
   "metadata": {},
   "outputs": [
    {
     "data": {
      "image/png": "[encoded data removed]",
      "text/plain": [
       "<Figure size 432x288 with 1 Axes>"
      ]
     },
     "metadata": {
      "needs_background": "light"
     },
     "output_type": "display_data"
    }
   ],
   "source": [
    "plt.scatter(data.iloc[:,0], data.iloc[:,1],  marker = 'o', c = data['centroid'].apply(lambda x: colors[x]), alpha = 0.5)\n",
    "plt.scatter(centroids.iloc[:,0], centroids.iloc[:,1],  marker = '*', s=150, \n",
    "           c = centroids.index.map(lambda x: colors[x]))\n",
    "plt.show()"
   ]
  },
  {
   "cell_type": "code",
   "execution_count": 87,
   "id": "ac809742-8962-4c97-a691-77c216869b79",
   "metadata": {},
   "outputs": [
    {
     "name": "stdout",
     "output_type": "stream",
     "text": [
      "The total error so far: 1137.76\n"
     ]
    }
   ],
   "source": [
    "print(f\"The total error so far: {round(data['dist'].sum(),2)}\")"
   ]
  },
  {
   "cell_type": "code",
   "execution_count": null,
   "id": "341e8340-aca3-48a9-8425-0e437676309e",
   "metadata": {},
   "outputs": [],
   "source": []
  }
 ],
 "metadata": {
  "kernelspec": {
   "display_name": "Python 3",
   "language": "python",
   "name": "python3"
  },
  "language_info": {
   "codemirror_mode": {
    "name": "ipython",
    "version": 3
   },
   "file_extension": ".py",
   "mimetype": "text/x-python",
   "name": "python",
   "nbconvert_exporter": "python",
   "pygments_lexer": "ipython3",
   "version": "3.8.8"
  }
 },
 "nbformat": 4,
 "nbformat_minor": 5
}
