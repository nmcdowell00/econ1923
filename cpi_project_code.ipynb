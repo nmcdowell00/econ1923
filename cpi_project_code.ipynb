{
 "cells": [
  {
   "cell_type": "markdown",
   "id": "5a974ccf-a32a-470e-8fc4-0ca3e91db43e",
   "metadata": {},
   "source": [
    "# Bureau of Labor Statistics API Project"
   ]
  },
  {
   "cell_type": "code",
   "execution_count": 514,
   "id": "56eb09fb-f670-4cc5-99d1-a715a2cd1907",
   "metadata": {},
   "outputs": [],
   "source": [
    "import requests\n",
    "import json\n",
    "import pandas as pd\n",
    "%run APIkeys.py\n",
    "key = os.environ['BLS_API_key']"
   ]
  },
  {
   "cell_type": "code",
   "execution_count": 515,
   "id": "74ef3fc5-165b-4fc4-b8ce-283aa530d393",
   "metadata": {},
   "outputs": [],
   "source": [
    "#codes that will be used to query the api\n",
    "defaultLoc = \"CUUR0000\"\n",
    "newYark = \"CUURS12A\"\n",
    "phil = \"CUURS12B\"\n",
    "chic = \"CUURS23A\"\n",
    "defaultItem = \"SA0\"\n",
    "trans = \"SAT\"\n",
    "fuel = \"SETB\"\n",
    "food = \"SAF1\"\n",
    "rent = \"SEHA\"\n",
    "util = \"SAH2\"\n",
    "apprl = \"SAA\"\n",
    "rec = \"SAR\"\n",
    "dura = \"SAD\""
   ]
  },
  {
   "cell_type": "code",
   "execution_count": 516,
   "id": "f192698d-61bf-4a68-9a13-06bd5da227a3",
   "metadata": {},
   "outputs": [],
   "source": [
    "locations = [newYark,phil,chic,defaultLoc]\n",
    "goods = [trans,fuel,food,rent,util,apprl,rec,dura,defaultItem]"
   ]
  },
  {
   "cell_type": "code",
   "execution_count": 517,
   "id": "edf80cc3-d72d-4892-8348-8ac5325e9a88",
   "metadata": {},
   "outputs": [],
   "source": [
    "#combine each location code with each product code. form a list\n",
    "def create_varList(location):\n",
    "    varList = []\n",
    "    for x in goods:\n",
    "        varList.append(location+x)\n",
    "    return varList\n",
    "    "
   ]
  },
  {
   "cell_type": "code",
   "execution_count": 518,
   "id": "3a602669-1fde-4dce-a439-15c9bf48d306",
   "metadata": {},
   "outputs": [],
   "source": [
    "newYark_varList = create_varList(newYark)\n",
    "phil_varList = create_varList(phil)\n",
    "chic_varList = create_varList(chic)"
   ]
  },
  {
   "cell_type": "markdown",
   "id": "ac927023-ee50-4466-a103-e4a9d96f4bc8",
   "metadata": {
    "tags": []
   },
   "source": [
    "### Function to call API and retrieve data"
   ]
  },
  {
   "cell_type": "code",
   "execution_count": 519,
   "id": "16ac2488-899f-4488-8824-7a1ec53acb06",
   "metadata": {
    "tags": []
   },
   "outputs": [],
   "source": [
    "def multiSeriesV4(varList,myKey): #inputs are the list of item codes for each city and personal API key\n",
    "   \n",
    "    base_url = 'https://api.bls.gov/publicAPI/v2/timeseries/data/'  \n",
    "    headers = {'Content-type': 'application/json'} \n",
    "\n",
    "    parameters = {\n",
    "        \"seriesid\":varList,\n",
    "        \"startyear\":\"2017\", \n",
    "        \"endyear\":\"2022\",\n",
    "        \"catalog\":True, \n",
    "        \"calculations\":False, \n",
    "        \"annualaverage\":False,\n",
    "        \"aspects\":False,\n",
    "        \"registrationkey\": myKey \n",
    "     }\n",
    "\n",
    "    data = json.dumps(parameters) #convert to json\n",
    "    \n",
    "    p = requests.post(base_url, data=data, headers=headers) #interact with server\n",
    "    json_data = json.loads(p.text) #accquired data\n",
    "    \n",
    "    n = len(varList) \n",
    "    \n",
    "    new_df = pd.DataFrame(columns=['year', 'period']) \n",
    "    for item in range(n):\n",
    "        l = len(json_data['Results']['series'][item]['data']) #navigating within the dictiornary retrieved\n",
    "        if l == 0:\n",
    "            print('Series ',varList[item],' does not exist')\n",
    "        else:\n",
    "            \n",
    "            print('Series ',varList[item],' exists with ',l,' observations')\n",
    "            d = json_data['Results']['series'][item]['data']\n",
    "            current_df = pd.DataFrame(data=d)#setting dataframe to the data\n",
    "            current_df = current_df[['year','period','value']].astype({'value': 'float64'})#creating column for each item in varList\n",
    "            current_df = current_df.rename(columns = {'value':varList[item]}) #rename column to name of item\n",
    "            new_df = new_df.merge(current_df, on = ['year','period'],how='outer') #attaching each item column to the dataframe\n",
    "    \n",
    "    return new_df"
   ]
  },
  {
   "cell_type": "code",
   "execution_count": 520,
   "id": "c501d4ea-7cc0-45a1-ae8b-bfdbfe1cc0fa",
   "metadata": {
    "tags": []
   },
   "outputs": [
    {
     "name": "stdout",
     "output_type": "stream",
     "text": [
      "Series  CUURS12ASAT  exists with  62  observations\n",
      "Series  CUURS12ASETB  exists with  62  observations\n",
      "Series  CUURS12ASAF1  exists with  62  observations\n",
      "Series  CUURS12ASEHA  exists with  62  observations\n",
      "Series  CUURS12ASAH2  exists with  62  observations\n",
      "Series  CUURS12ASAA  exists with  62  observations\n",
      "Series  CUURS12ASAR  exists with  62  observations\n",
      "Series  CUURS12ASAD  exists with  62  observations\n",
      "Series  CUURS12ASA0  exists with  62  observations\n"
     ]
    }
   ],
   "source": [
    "df_newYark = multiSeriesV4(newYark_varList,key)"
   ]
  },
  {
   "cell_type": "code",
   "execution_count": 521,
   "id": "13067723-abff-4241-87b7-531799f9fcc7",
   "metadata": {
    "tags": []
   },
   "outputs": [
    {
     "data": {
      "text/html": [
       "<div>\n",
       "<style scoped>\n",
       "    .dataframe tbody tr th:only-of-type {\n",
       "        vertical-align: middle;\n",
       "    }\n",
       "\n",
       "    .dataframe tbody tr th {\n",
       "        vertical-align: top;\n",
       "    }\n",
       "\n",
       "    .dataframe thead th {\n",
       "        text-align: right;\n",
       "    }\n",
       "</style>\n",
       "<table border=\"1\" class=\"dataframe\">\n",
       "  <thead>\n",
       "    <tr style=\"text-align: right;\">\n",
       "      <th></th>\n",
       "      <th>year</th>\n",
       "      <th>period</th>\n",
       "      <th>CUURS12ASAT</th>\n",
       "      <th>CUURS12ASETB</th>\n",
       "      <th>CUURS12ASAF1</th>\n",
       "      <th>CUURS12ASEHA</th>\n",
       "      <th>CUURS12ASAH2</th>\n",
       "      <th>CUURS12ASAA</th>\n",
       "      <th>CUURS12ASAR</th>\n",
       "      <th>CUURS12ASAD</th>\n",
       "      <th>CUURS12ASA0</th>\n",
       "    </tr>\n",
       "  </thead>\n",
       "  <tbody>\n",
       "    <tr>\n",
       "      <th>0</th>\n",
       "      <td>2022</td>\n",
       "      <td>M02</td>\n",
       "      <td>251.934</td>\n",
       "      <td>285.025</td>\n",
       "      <td>307.079</td>\n",
       "      <td>414.299</td>\n",
       "      <td>213.733</td>\n",
       "      <td>129.746</td>\n",
       "      <td>140.321</td>\n",
       "      <td>113.062</td>\n",
       "      <td>301.151</td>\n",
       "    </tr>\n",
       "    <tr>\n",
       "      <th>1</th>\n",
       "      <td>2022</td>\n",
       "      <td>M01</td>\n",
       "      <td>246.742</td>\n",
       "      <td>270.875</td>\n",
       "      <td>305.120</td>\n",
       "      <td>412.105</td>\n",
       "      <td>241.143</td>\n",
       "      <td>128.412</td>\n",
       "      <td>139.592</td>\n",
       "      <td>111.650</td>\n",
       "      <td>300.164</td>\n",
       "    </tr>\n",
       "    <tr>\n",
       "      <th>2</th>\n",
       "      <td>2021</td>\n",
       "      <td>M12</td>\n",
       "      <td>247.278</td>\n",
       "      <td>273.756</td>\n",
       "      <td>302.121</td>\n",
       "      <td>410.839</td>\n",
       "      <td>210.056</td>\n",
       "      <td>121.188</td>\n",
       "      <td>138.384</td>\n",
       "      <td>109.670</td>\n",
       "      <td>296.865</td>\n",
       "    </tr>\n",
       "    <tr>\n",
       "      <th>3</th>\n",
       "      <td>2021</td>\n",
       "      <td>M11</td>\n",
       "      <td>247.737</td>\n",
       "      <td>277.098</td>\n",
       "      <td>301.334</td>\n",
       "      <td>410.245</td>\n",
       "      <td>212.512</td>\n",
       "      <td>123.389</td>\n",
       "      <td>140.562</td>\n",
       "      <td>108.264</td>\n",
       "      <td>297.490</td>\n",
       "    </tr>\n",
       "    <tr>\n",
       "      <th>4</th>\n",
       "      <td>2021</td>\n",
       "      <td>M10</td>\n",
       "      <td>243.749</td>\n",
       "      <td>266.644</td>\n",
       "      <td>299.049</td>\n",
       "      <td>410.024</td>\n",
       "      <td>215.260</td>\n",
       "      <td>128.729</td>\n",
       "      <td>138.870</td>\n",
       "      <td>107.002</td>\n",
       "      <td>296.472</td>\n",
       "    </tr>\n",
       "  </tbody>\n",
       "</table>\n",
       "</div>"
      ],
      "text/plain": [
       "   year period  CUURS12ASAT  CUURS12ASETB  CUURS12ASAF1  CUURS12ASEHA  \\\n",
       "0  2022    M02      251.934       285.025       307.079       414.299   \n",
       "1  2022    M01      246.742       270.875       305.120       412.105   \n",
       "2  2021    M12      247.278       273.756       302.121       410.839   \n",
       "3  2021    M11      247.737       277.098       301.334       410.245   \n",
       "4  2021    M10      243.749       266.644       299.049       410.024   \n",
       "\n",
       "   CUURS12ASAH2  CUURS12ASAA  CUURS12ASAR  CUURS12ASAD  CUURS12ASA0  \n",
       "0       213.733      129.746      140.321      113.062      301.151  \n",
       "1       241.143      128.412      139.592      111.650      300.164  \n",
       "2       210.056      121.188      138.384      109.670      296.865  \n",
       "3       212.512      123.389      140.562      108.264      297.490  \n",
       "4       215.260      128.729      138.870      107.002      296.472  "
      ]
     },
     "execution_count": 521,
     "metadata": {},
     "output_type": "execute_result"
    }
   ],
   "source": [
    "df_newYark.head()"
   ]
  },
  {
   "cell_type": "code",
   "execution_count": 522,
   "id": "4682e580-39ec-43e6-b7f9-2b34aba4ac60",
   "metadata": {
    "tags": []
   },
   "outputs": [
    {
     "name": "stdout",
     "output_type": "stream",
     "text": [
      "Series  CUURS12BSAT  exists with  31  observations\n",
      "Series  CUURS12BSETB  exists with  62  observations\n",
      "Series  CUURS12BSAF1  exists with  31  observations\n",
      "Series  CUURS12BSEHA  exists with  62  observations\n",
      "Series  CUURS12BSAH2  exists with  31  observations\n",
      "Series  CUURS12BSAA  exists with  31  observations\n",
      "Series  CUURS12BSAR  exists with  31  observations\n",
      "Series  CUURS12BSAD  exists with  31  observations\n",
      "Series  CUURS12BSA0  exists with  31  observations\n"
     ]
    }
   ],
   "source": [
    "df_phil = multiSeriesV4(phil_varList,key)"
   ]
  },
  {
   "cell_type": "code",
   "execution_count": 523,
   "id": "b924e456-3ac7-44d9-9973-5266af5e8db7",
   "metadata": {
    "tags": []
   },
   "outputs": [
    {
     "data": {
      "text/html": [
       "<div>\n",
       "<style scoped>\n",
       "    .dataframe tbody tr th:only-of-type {\n",
       "        vertical-align: middle;\n",
       "    }\n",
       "\n",
       "    .dataframe tbody tr th {\n",
       "        vertical-align: top;\n",
       "    }\n",
       "\n",
       "    .dataframe thead th {\n",
       "        text-align: right;\n",
       "    }\n",
       "</style>\n",
       "<table border=\"1\" class=\"dataframe\">\n",
       "  <thead>\n",
       "    <tr style=\"text-align: right;\">\n",
       "      <th></th>\n",
       "      <th>year</th>\n",
       "      <th>period</th>\n",
       "      <th>CUURS12BSAT</th>\n",
       "      <th>CUURS12BSETB</th>\n",
       "      <th>CUURS12BSAF1</th>\n",
       "      <th>CUURS12BSEHA</th>\n",
       "      <th>CUURS12BSAH2</th>\n",
       "      <th>CUURS12BSAA</th>\n",
       "      <th>CUURS12BSAR</th>\n",
       "      <th>CUURS12BSAD</th>\n",
       "      <th>CUURS12BSA0</th>\n",
       "    </tr>\n",
       "  </thead>\n",
       "  <tbody>\n",
       "    <tr>\n",
       "      <th>0</th>\n",
       "      <td>2022</td>\n",
       "      <td>M02</td>\n",
       "      <td>251.620</td>\n",
       "      <td>333.089</td>\n",
       "      <td>266.116</td>\n",
       "      <td>333.117</td>\n",
       "      <td>242.304</td>\n",
       "      <td>112.696</td>\n",
       "      <td>131.675</td>\n",
       "      <td>132.317</td>\n",
       "      <td>281.402</td>\n",
       "    </tr>\n",
       "    <tr>\n",
       "      <th>1</th>\n",
       "      <td>2021</td>\n",
       "      <td>M12</td>\n",
       "      <td>245.890</td>\n",
       "      <td>318.304</td>\n",
       "      <td>260.566</td>\n",
       "      <td>331.017</td>\n",
       "      <td>232.186</td>\n",
       "      <td>104.635</td>\n",
       "      <td>128.821</td>\n",
       "      <td>129.603</td>\n",
       "      <td>277.163</td>\n",
       "    </tr>\n",
       "    <tr>\n",
       "      <th>2</th>\n",
       "      <td>2021</td>\n",
       "      <td>M10</td>\n",
       "      <td>243.516</td>\n",
       "      <td>310.673</td>\n",
       "      <td>256.795</td>\n",
       "      <td>326.997</td>\n",
       "      <td>221.643</td>\n",
       "      <td>108.967</td>\n",
       "      <td>128.287</td>\n",
       "      <td>129.302</td>\n",
       "      <td>274.647</td>\n",
       "    </tr>\n",
       "    <tr>\n",
       "      <th>3</th>\n",
       "      <td>2021</td>\n",
       "      <td>M08</td>\n",
       "      <td>239.394</td>\n",
       "      <td>295.323</td>\n",
       "      <td>252.659</td>\n",
       "      <td>326.468</td>\n",
       "      <td>215.703</td>\n",
       "      <td>109.781</td>\n",
       "      <td>127.160</td>\n",
       "      <td>126.361</td>\n",
       "      <td>272.044</td>\n",
       "    </tr>\n",
       "    <tr>\n",
       "      <th>4</th>\n",
       "      <td>2021</td>\n",
       "      <td>M06</td>\n",
       "      <td>238.189</td>\n",
       "      <td>285.626</td>\n",
       "      <td>252.233</td>\n",
       "      <td>324.064</td>\n",
       "      <td>212.873</td>\n",
       "      <td>107.951</td>\n",
       "      <td>128.137</td>\n",
       "      <td>125.249</td>\n",
       "      <td>270.499</td>\n",
       "    </tr>\n",
       "  </tbody>\n",
       "</table>\n",
       "</div>"
      ],
      "text/plain": [
       "   year period  CUURS12BSAT  CUURS12BSETB  CUURS12BSAF1  CUURS12BSEHA  \\\n",
       "0  2022    M02      251.620       333.089       266.116       333.117   \n",
       "1  2021    M12      245.890       318.304       260.566       331.017   \n",
       "2  2021    M10      243.516       310.673       256.795       326.997   \n",
       "3  2021    M08      239.394       295.323       252.659       326.468   \n",
       "4  2021    M06      238.189       285.626       252.233       324.064   \n",
       "\n",
       "   CUURS12BSAH2  CUURS12BSAA  CUURS12BSAR  CUURS12BSAD  CUURS12BSA0  \n",
       "0       242.304      112.696      131.675      132.317      281.402  \n",
       "1       232.186      104.635      128.821      129.603      277.163  \n",
       "2       221.643      108.967      128.287      129.302      274.647  \n",
       "3       215.703      109.781      127.160      126.361      272.044  \n",
       "4       212.873      107.951      128.137      125.249      270.499  "
      ]
     },
     "execution_count": 523,
     "metadata": {},
     "output_type": "execute_result"
    }
   ],
   "source": [
    "df_phil.head()\n",
    "# df_phil contains many missing values. will need to deal with them appropriately to create meaningful visualizations"
   ]
  },
  {
   "cell_type": "code",
   "execution_count": 524,
   "id": "63870d25-23d3-45fe-8e4d-5bcf81cac098",
   "metadata": {
    "tags": []
   },
   "outputs": [
    {
     "name": "stdout",
     "output_type": "stream",
     "text": [
      "Series  CUURS23ASAT  exists with  62  observations\n",
      "Series  CUURS23ASETB  exists with  62  observations\n",
      "Series  CUURS23ASAF1  exists with  62  observations\n",
      "Series  CUURS23ASEHA  exists with  62  observations\n",
      "Series  CUURS23ASAH2  exists with  62  observations\n",
      "Series  CUURS23ASAA  exists with  62  observations\n",
      "Series  CUURS23ASAR  exists with  62  observations\n",
      "Series  CUURS23ASAD  exists with  62  observations\n",
      "Series  CUURS23ASA0  exists with  62  observations\n"
     ]
    }
   ],
   "source": [
    "df_chic = multiSeriesV4(chic_varList,key)"
   ]
  },
  {
   "cell_type": "code",
   "execution_count": 525,
   "id": "56332dd2-7854-4194-9174-550fcc0992d0",
   "metadata": {
    "tags": []
   },
   "outputs": [
    {
     "data": {
      "text/html": [
       "<div>\n",
       "<style scoped>\n",
       "    .dataframe tbody tr th:only-of-type {\n",
       "        vertical-align: middle;\n",
       "    }\n",
       "\n",
       "    .dataframe tbody tr th {\n",
       "        vertical-align: top;\n",
       "    }\n",
       "\n",
       "    .dataframe thead th {\n",
       "        text-align: right;\n",
       "    }\n",
       "</style>\n",
       "<table border=\"1\" class=\"dataframe\">\n",
       "  <thead>\n",
       "    <tr style=\"text-align: right;\">\n",
       "      <th></th>\n",
       "      <th>year</th>\n",
       "      <th>period</th>\n",
       "      <th>CUURS23ASAT</th>\n",
       "      <th>CUURS23ASETB</th>\n",
       "      <th>CUURS23ASAF1</th>\n",
       "      <th>CUURS23ASEHA</th>\n",
       "      <th>CUURS23ASAH2</th>\n",
       "      <th>CUURS23ASAA</th>\n",
       "      <th>CUURS23ASAR</th>\n",
       "      <th>CUURS23ASAD</th>\n",
       "      <th>CUURS23ASA0</th>\n",
       "    </tr>\n",
       "  </thead>\n",
       "  <tbody>\n",
       "    <tr>\n",
       "      <th>0</th>\n",
       "      <td>2022</td>\n",
       "      <td>M02</td>\n",
       "      <td>219.412</td>\n",
       "      <td>322.798</td>\n",
       "      <td>290.235</td>\n",
       "      <td>367.296</td>\n",
       "      <td>248.263</td>\n",
       "      <td>90.265</td>\n",
       "      <td>119.738</td>\n",
       "      <td>100.013</td>\n",
       "      <td>264.828</td>\n",
       "    </tr>\n",
       "    <tr>\n",
       "      <th>1</th>\n",
       "      <td>2022</td>\n",
       "      <td>M01</td>\n",
       "      <td>214.728</td>\n",
       "      <td>302.793</td>\n",
       "      <td>289.350</td>\n",
       "      <td>365.851</td>\n",
       "      <td>246.308</td>\n",
       "      <td>85.619</td>\n",
       "      <td>117.793</td>\n",
       "      <td>100.057</td>\n",
       "      <td>262.730</td>\n",
       "    </tr>\n",
       "    <tr>\n",
       "      <th>2</th>\n",
       "      <td>2021</td>\n",
       "      <td>M12</td>\n",
       "      <td>213.160</td>\n",
       "      <td>301.508</td>\n",
       "      <td>285.170</td>\n",
       "      <td>364.376</td>\n",
       "      <td>247.096</td>\n",
       "      <td>82.422</td>\n",
       "      <td>116.636</td>\n",
       "      <td>99.187</td>\n",
       "      <td>260.368</td>\n",
       "    </tr>\n",
       "    <tr>\n",
       "      <th>3</th>\n",
       "      <td>2021</td>\n",
       "      <td>M11</td>\n",
       "      <td>211.869</td>\n",
       "      <td>313.647</td>\n",
       "      <td>284.159</td>\n",
       "      <td>363.766</td>\n",
       "      <td>242.674</td>\n",
       "      <td>82.241</td>\n",
       "      <td>114.917</td>\n",
       "      <td>96.180</td>\n",
       "      <td>259.254</td>\n",
       "    </tr>\n",
       "    <tr>\n",
       "      <th>4</th>\n",
       "      <td>2021</td>\n",
       "      <td>M10</td>\n",
       "      <td>210.302</td>\n",
       "      <td>308.848</td>\n",
       "      <td>281.868</td>\n",
       "      <td>361.733</td>\n",
       "      <td>241.751</td>\n",
       "      <td>85.005</td>\n",
       "      <td>114.428</td>\n",
       "      <td>96.300</td>\n",
       "      <td>258.621</td>\n",
       "    </tr>\n",
       "  </tbody>\n",
       "</table>\n",
       "</div>"
      ],
      "text/plain": [
       "   year period  CUURS23ASAT  CUURS23ASETB  CUURS23ASAF1  CUURS23ASEHA  \\\n",
       "0  2022    M02      219.412       322.798       290.235       367.296   \n",
       "1  2022    M01      214.728       302.793       289.350       365.851   \n",
       "2  2021    M12      213.160       301.508       285.170       364.376   \n",
       "3  2021    M11      211.869       313.647       284.159       363.766   \n",
       "4  2021    M10      210.302       308.848       281.868       361.733   \n",
       "\n",
       "   CUURS23ASAH2  CUURS23ASAA  CUURS23ASAR  CUURS23ASAD  CUURS23ASA0  \n",
       "0       248.263       90.265      119.738      100.013      264.828  \n",
       "1       246.308       85.619      117.793      100.057      262.730  \n",
       "2       247.096       82.422      116.636       99.187      260.368  \n",
       "3       242.674       82.241      114.917       96.180      259.254  \n",
       "4       241.751       85.005      114.428       96.300      258.621  "
      ]
     },
     "execution_count": 525,
     "metadata": {},
     "output_type": "execute_result"
    }
   ],
   "source": [
    "df_chic.head()"
   ]
  },
  {
   "cell_type": "markdown",
   "id": "9641c623-cb12-464d-8730-18139ddd1d45",
   "metadata": {},
   "source": [
    "### renaming columns for readability"
   ]
  },
  {
   "cell_type": "code",
   "execution_count": 526,
   "id": "c21e509f-65db-4a62-ad38-ffbe5b8d32bb",
   "metadata": {},
   "outputs": [],
   "source": [
    "df_chic = df_chic.rename(columns = {'CUURS23ASAT':'trans',\n",
    "                                    'CUURS23ASETB':'fuel',\n",
    "                                    'CUURS23ASAF1':'food',\n",
    "                                    'CUURS23ASEHA':'rent',\n",
    "                                    'CUURS23ASAH2':'util',\n",
    "                                    'CUURS23ASAA':'apprl',\n",
    "                                    'CUURS23ASAR':'rec',\n",
    "                                    'CUURS23ASAD':'dura',\n",
    "                                    'CUURS23ASA0':'default'})"
   ]
  },
  {
   "cell_type": "code",
   "execution_count": 527,
   "id": "7f1e3c12-0d01-4764-8861-f29be9d0809d",
   "metadata": {},
   "outputs": [],
   "source": [
    "df_newYark = df_newYark.rename(columns = {'CUURS12ASAT':'trans',\n",
    "                                          'CUURS12ASETB':'fuel',\n",
    "                                          'CUURS12ASAF1':'food',\n",
    "                                          'CUURS12ASEHA':'rent',\n",
    "                                          'CUURS12ASAH2':'util',\n",
    "                                          'CUURS12ASAA':'apprl',\n",
    "                                          'CUURS12ASAR':'rec',\n",
    "                                          'CUURS12ASAD':'dura',\n",
    "                                          'CUURS12ASA0':'default'})"
   ]
  },
  {
   "cell_type": "code",
   "execution_count": 528,
   "id": "66c5f123-7753-4e4c-95c4-cd378aabd1fa",
   "metadata": {},
   "outputs": [],
   "source": [
    "df_phil = df_phil.rename(columns = {'CUURS12BSAT':'trans',\n",
    "                                    'CUURS12BSETB':'fuel',\n",
    "                                    'CUURS12BSAF1':'food',\n",
    "                                    'CUURS12BSEHA':'rent',\n",
    "                                    'CUURS12BSAH2':'util',\n",
    "                                    'CUURS12BSAA':'apprl',\n",
    "                                    'CUURS12BSAR':'rec',\n",
    "                                    'CUURS12BSAD':'dura',\n",
    "                                    'CUURS12BSA0':'default'})\n",
    "df_phil = df_phil.fillna(method='ffill')\n",
    "#forward-fill propagates the last observed non-null value forward until another non-null value is encountered"
   ]
  },
  {
   "cell_type": "code",
   "execution_count": 529,
   "id": "5df3af04-0ffb-4eaf-a3dd-4ca011c44725",
   "metadata": {},
   "outputs": [],
   "source": [
    "dfl = [df_newYark, df_phil, df_chic]\n",
    "#create a list of datarames. can itereate through them in a loop if need be"
   ]
  },
  {
   "cell_type": "code",
   "execution_count": 530,
   "id": "3b408216-e97b-434a-8cf5-a9d297c85cc2",
   "metadata": {},
   "outputs": [],
   "source": [
    "#sort values in descending order so they graph well\n",
    "for x in dfl:\n",
    "    x.sort_values(by=['year','period'],inplace=True,ascending=False)"
   ]
  },
  {
   "cell_type": "markdown",
   "id": "6e4bb2fd-24c3-426d-8dc1-381277a32a4d",
   "metadata": {},
   "source": [
    "### Creating the CPI for each location with the designated weights\n",
    "#### locations\n",
    "newYark - 0.46; Largest concentrated population of students.\n",
    "\n",
    "chic - 0. 24\n",
    "\n",
    "phil - 0.30; Next Largest\n",
    "\n",
    "#### basket items\n",
    "trans - 0.06; within city schools transportation is not as necessary as other campuses.\n",
    "\n",
    "fuel - 0.02; even smaller consideration with low importance on transportation.\n",
    "\n",
    "food - 0.22; one of these most necessary items on the list. Must eat.\n",
    "\n",
    "rent - 0.3; while in school you must have housing, and somewhere to eat. Most necessary.\n",
    "\n",
    "util - 0.08;  minor additional cost to rent and food.\n",
    "\n",
    "apprl - 0.2; it is important to have clean presentable clothing.\n",
    "\n",
    "rec - 0.1;  this is not a necessity, however, recreation is required to keep healthy.\n",
    "\n",
    "dura - 0.02; preserved food/items which store long.\n",
    "\n"
   ]
  },
  {
   "cell_type": "code",
   "execution_count": 531,
   "id": "d35ca450-ab1b-425f-b1f2-3fc6dfba7a6e",
   "metadata": {},
   "outputs": [],
   "source": [
    "import numpy as np\n",
    "basket_weights = {\n",
    "    \"trans\":0.06,\n",
    "    \"fuel\":0.02,\n",
    "    \"food\":0.22,\n",
    "    \"rent\":0.3,\n",
    "    \"util\":0.08,\n",
    "    \"apprl\":0.2,\n",
    "    \"rec\":0.1,\n",
    "    \"dura\":0.02}\n",
    "\n",
    "location_weights = {\n",
    "    \"newYark\":0.46,\n",
    "    \"chic\":0.24,\n",
    "    \"phil\":0.3\n",
    "}"
   ]
  },
  {
   "cell_type": "code",
   "execution_count": 532,
   "id": "61b682f1-11d9-416f-80e4-2f43082a1cd0",
   "metadata": {},
   "outputs": [],
   "source": [
    "def create_cpi(dataframe):\n",
    "    my_weights = []\n",
    "    my_items = []\n",
    "    for key, value in basket_weights.items():#takes in the dict and splits value and key into 2 seperate lists\n",
    "        my_items.append(key)\n",
    "        my_weights.append(value)\n",
    "    \n",
    "    cpi = np.dot(dataframe.iloc[:,2:10].values.astype(float),my_weights) #uses dot product to apply each weight to the row values to create CPI\n",
    "    dataframe['myCPI'] = cpi\n",
    "    "
   ]
  },
  {
   "cell_type": "code",
   "execution_count": 533,
   "id": "65fa84c1-92c7-4230-868a-b14154db998c",
   "metadata": {
    "tags": []
   },
   "outputs": [],
   "source": [
    "for x in dfl:\n",
    "    create_cpi(x)"
   ]
  },
  {
   "cell_type": "markdown",
   "id": "f5b608b7-2667-4b72-aed4-8c96e341b24b",
   "metadata": {},
   "source": [
    "### Calculating and Plotting Inflation"
   ]
  },
  {
   "cell_type": "code",
   "execution_count": 534,
   "id": "4afd4968-319a-458b-95ba-dadb9457275b",
   "metadata": {},
   "outputs": [],
   "source": [
    "from matplotlib import pyplot as plt\n",
    "def inflation(myData, cpi, scale):#takes in desired dataframe, column with cpi values, and time scale\n",
    "    lags =[] #each time period where inflation will be calculated\n",
    "    changes = [] #the value of inflation at each lag\n",
    "    index_list = [0] \n",
    "    limit = int(len(myData)/12) #hardcoded limit that limits loop to 5 times as each data set only contains 5 full years of data\n",
    "    index_list = index_list*limit\n",
    "    i = 0\n",
    "    for x in index_list:\n",
    "        new = myData[cpi].iloc[i] #grab first cpi value\n",
    "        i+=12\n",
    "        old = myData[cpi].iloc[i] #grab cpi value 12 periods(months) below\n",
    "        year = myData[scale].iloc[i] #grabs the year\n",
    "        \n",
    "        change = (new/old - 1)*100 #inflation calculation\n",
    "        lags.append(year) \n",
    "        changes.append(change)\n",
    "        \n",
    "        print(\"the inflation for \", year,\"was \",change)\n",
    "    lags.reverse() # reverse the sets so data will have a positive slope that relates to inflation increasing over time\n",
    "    changes.reverse()\n",
    "    plt.plot(lags, changes, color='green', marker='o', linestyle='solid')\n",
    "\n",
    "\n",
    "    \n",
    "    "
   ]
  },
  {
   "cell_type": "markdown",
   "id": "3d7593e0-ea7b-4f95-ba42-066406c22ff0",
   "metadata": {},
   "source": [
    "### Visualizations of Inflation"
   ]
  },
  {
   "cell_type": "code",
   "execution_count": 535,
   "id": "a0be2cf1-212a-43d9-9f97-9e7b002aef39",
   "metadata": {},
   "outputs": [
    {
     "name": "stdout",
     "output_type": "stream",
     "text": [
      "the inflation for  2021 was  7.730180571452583\n",
      "the inflation for  2020 was  0.7776498457957803\n",
      "the inflation for  2019 was  3.108219057069017\n",
      "the inflation for  2018 was  0.5293156528456189\n",
      "the inflation for  2017 was  1.2362381295834224\n"
     ]
    },
    {
     "data": {
      "image/png": "[encoded data removed]",
      "text/plain": [
       "<Figure size 432x288 with 1 Axes>"
      ]
     },
     "metadata": {
      "needs_background": "light"
     },
     "output_type": "display_data"
    }
   ],
   "source": [
    "inflation(df_phil,'myCPI','year')"
   ]
  },
  {
   "cell_type": "code",
   "execution_count": 536,
   "id": "cebfa36e-41c0-428d-8562-b33030162b0f",
   "metadata": {},
   "outputs": [
    {
     "name": "stdout",
     "output_type": "stream",
     "text": [
      "the inflation for  2021 was  4.76065616603405\n",
      "the inflation for  2020 was  1.5957372713446771\n",
      "the inflation for  2019 was  2.04497318286585\n",
      "the inflation for  2018 was  1.1843829043872711\n",
      "the inflation for  2017 was  2.2302127905283298\n"
     ]
    },
    {
     "data": {
      "image/png": "[encoded data removed]",
      "text/plain": [
       "<Figure size 432x288 with 1 Axes>"
      ]
     },
     "metadata": {
      "needs_background": "light"
     },
     "output_type": "display_data"
    }
   ],
   "source": [
    "inflation(df_newYark, 'myCPI','year')"
   ]
  },
  {
   "cell_type": "code",
   "execution_count": 537,
   "id": "5ce6f669-d2b8-48eb-bf48-7c3af5123be9",
   "metadata": {},
   "outputs": [
    {
     "name": "stdout",
     "output_type": "stream",
     "text": [
      "the inflation for  2021 was  7.485033688372766\n",
      "the inflation for  2020 was  2.2139444766241745\n",
      "the inflation for  2019 was  1.990438063025568\n",
      "the inflation for  2018 was  1.7888365075075408\n",
      "the inflation for  2017 was  2.3672485727971537\n"
     ]
    },
    {
     "data": {
      "image/png": "[encoded data removed]",
      "text/plain": [
       "<Figure size 432x288 with 1 Axes>"
      ]
     },
     "metadata": {
      "needs_background": "light"
     },
     "output_type": "display_data"
    }
   ],
   "source": [
    "inflation(df_chic, 'myCPI','year')"
   ]
  },
  {
   "cell_type": "code",
   "execution_count": 538,
   "id": "cc5a6a88-e344-4586-b699-7c0765ad3040",
   "metadata": {},
   "outputs": [],
   "source": [
    "# Creating a combined Dataframe to plot all the CPIs on one graph\n",
    "combined = pd.DataFrame(zip(df_newYark.year, #years are same between dataframes as entrys for each are identical\n",
    "                            df_newYark.period, \n",
    "                            df_phil.myCPI, #grab all dataframe cpis as well as the national cpi\n",
    "                            df_newYark.myCPI, \n",
    "                            df_chic.myCPI,\n",
    "                            df.CUUR0000SA0)) # national CPI"
   ]
  },
  {
   "cell_type": "code",
   "execution_count": 539,
   "id": "d5be27bf-3cbc-4c5c-a87d-3ebeb00e1218",
   "metadata": {},
   "outputs": [
    {
     "data": {
      "text/html": [
       "<div>\n",
       "<style scoped>\n",
       "    .dataframe tbody tr th:only-of-type {\n",
       "        vertical-align: middle;\n",
       "    }\n",
       "\n",
       "    .dataframe tbody tr th {\n",
       "        vertical-align: top;\n",
       "    }\n",
       "\n",
       "    .dataframe thead th {\n",
       "        text-align: right;\n",
       "    }\n",
       "</style>\n",
       "<table border=\"1\" class=\"dataframe\">\n",
       "  <thead>\n",
       "    <tr style=\"text-align: right;\">\n",
       "      <th></th>\n",
       "      <th>0</th>\n",
       "      <th>1</th>\n",
       "      <th>2</th>\n",
       "      <th>3</th>\n",
       "      <th>4</th>\n",
       "      <th>5</th>\n",
       "    </tr>\n",
       "  </thead>\n",
       "  <tbody>\n",
       "    <tr>\n",
       "      <th>0</th>\n",
       "      <td>2022</td>\n",
       "      <td>M02</td>\n",
       "      <td>237.97696</td>\n",
       "      <td>272.00480</td>\n",
       "      <td>245.54928</td>\n",
       "      <td>283.716</td>\n",
       "    </tr>\n",
       "    <tr>\n",
       "      <th>1</th>\n",
       "      <td>2022</td>\n",
       "      <td>M01</td>\n",
       "      <td>222.60456</td>\n",
       "      <td>272.14596</td>\n",
       "      <td>242.96072</td>\n",
       "      <td>281.148</td>\n",
       "    </tr>\n",
       "    <tr>\n",
       "      <th>2</th>\n",
       "      <td>2021</td>\n",
       "      <td>M12</td>\n",
       "      <td>232.72514</td>\n",
       "      <td>267.10400</td>\n",
       "      <td>240.76938</td>\n",
       "      <td>278.802</td>\n",
       "    </tr>\n",
       "    <tr>\n",
       "      <th>3</th>\n",
       "      <td>2021</td>\n",
       "      <td>M11</td>\n",
       "      <td>221.78248</td>\n",
       "      <td>267.67340</td>\n",
       "      <td>239.90728</td>\n",
       "      <td>277.948</td>\n",
       "    </tr>\n",
       "    <tr>\n",
       "      <th>4</th>\n",
       "      <td>2021</td>\n",
       "      <td>M10</td>\n",
       "      <td>230.35800</td>\n",
       "      <td>267.74944</td>\n",
       "      <td>239.03582</td>\n",
       "      <td>276.589</td>\n",
       "    </tr>\n",
       "  </tbody>\n",
       "</table>\n",
       "</div>"
      ],
      "text/plain": [
       "      0    1          2          3          4        5\n",
       "0  2022  M02  237.97696  272.00480  245.54928  283.716\n",
       "1  2022  M01  222.60456  272.14596  242.96072  281.148\n",
       "2  2021  M12  232.72514  267.10400  240.76938  278.802\n",
       "3  2021  M11  221.78248  267.67340  239.90728  277.948\n",
       "4  2021  M10  230.35800  267.74944  239.03582  276.589"
      ]
     },
     "execution_count": 539,
     "metadata": {},
     "output_type": "execute_result"
    }
   ],
   "source": [
    "combined.head()"
   ]
  },
  {
   "cell_type": "code",
   "execution_count": 540,
   "id": "255f0f76-bce9-4e50-93ad-e235f17425e2",
   "metadata": {},
   "outputs": [],
   "source": [
    "combined = combined.rename(columns = {0:'year',\n",
    "                                      1:'period',\n",
    "                                      2:'philadelphia',\n",
    "                                      3:'new_york',\n",
    "                                      4:'chicago',\n",
    "                                      5:'nationalCPI'})"
   ]
  },
  {
   "cell_type": "code",
   "execution_count": 541,
   "id": "b5cd9a1f-9c13-4fea-8456-18a322bddba2",
   "metadata": {},
   "outputs": [],
   "source": [
    "#creating the average of myCPI by using the location weight. will compare this to the national CPI\n",
    "combined['averageCPI'] = (combined['philadelphia']*.3)+(combined['new_york']*.46)+(combined['chicago']*.24)"
   ]
  },
  {
   "cell_type": "code",
   "execution_count": 542,
   "id": "d64af32d-73f3-4050-9664-791aafbb59f4",
   "metadata": {},
   "outputs": [],
   "source": [
    "combined.sort_values(by=['year','period'],inplace=True,ascending=True)"
   ]
  },
  {
   "cell_type": "code",
   "execution_count": 543,
   "id": "d476392a-44a9-4d91-943c-3f6ecdb99462",
   "metadata": {},
   "outputs": [
    {
     "data": {
      "text/html": [
       "<div>\n",
       "<style scoped>\n",
       "    .dataframe tbody tr th:only-of-type {\n",
       "        vertical-align: middle;\n",
       "    }\n",
       "\n",
       "    .dataframe tbody tr th {\n",
       "        vertical-align: top;\n",
       "    }\n",
       "\n",
       "    .dataframe thead th {\n",
       "        text-align: right;\n",
       "    }\n",
       "</style>\n",
       "<table border=\"1\" class=\"dataframe\">\n",
       "  <thead>\n",
       "    <tr style=\"text-align: right;\">\n",
       "      <th></th>\n",
       "      <th>year</th>\n",
       "      <th>period</th>\n",
       "      <th>philadelphia</th>\n",
       "      <th>new_york</th>\n",
       "      <th>chicago</th>\n",
       "      <th>nationalCPI</th>\n",
       "      <th>averageCPI</th>\n",
       "    </tr>\n",
       "  </thead>\n",
       "  <tbody>\n",
       "    <tr>\n",
       "      <th>61</th>\n",
       "      <td>2017</td>\n",
       "      <td>M01</td>\n",
       "      <td>208.92434</td>\n",
       "      <td>240.93926</td>\n",
       "      <td>209.77972</td>\n",
       "      <td>242.839</td>\n",
       "      <td>223.856494</td>\n",
       "    </tr>\n",
       "    <tr>\n",
       "      <th>60</th>\n",
       "      <td>2017</td>\n",
       "      <td>M02</td>\n",
       "      <td>208.88694</td>\n",
       "      <td>242.11322</td>\n",
       "      <td>210.30998</td>\n",
       "      <td>243.603</td>\n",
       "      <td>224.512558</td>\n",
       "    </tr>\n",
       "    <tr>\n",
       "      <th>59</th>\n",
       "      <td>2017</td>\n",
       "      <td>M03</td>\n",
       "      <td>208.97020</td>\n",
       "      <td>242.93088</td>\n",
       "      <td>210.21002</td>\n",
       "      <td>243.801</td>\n",
       "      <td>224.889670</td>\n",
       "    </tr>\n",
       "    <tr>\n",
       "      <th>58</th>\n",
       "      <td>2017</td>\n",
       "      <td>M04</td>\n",
       "      <td>209.93280</td>\n",
       "      <td>243.06876</td>\n",
       "      <td>211.41622</td>\n",
       "      <td>244.524</td>\n",
       "      <td>225.531362</td>\n",
       "    </tr>\n",
       "    <tr>\n",
       "      <th>57</th>\n",
       "      <td>2017</td>\n",
       "      <td>M05</td>\n",
       "      <td>209.55050</td>\n",
       "      <td>243.11050</td>\n",
       "      <td>211.49284</td>\n",
       "      <td>244.733</td>\n",
       "      <td>225.454262</td>\n",
       "    </tr>\n",
       "  </tbody>\n",
       "</table>\n",
       "</div>"
      ],
      "text/plain": [
       "    year period  philadelphia   new_york    chicago  nationalCPI  averageCPI\n",
       "61  2017    M01     208.92434  240.93926  209.77972      242.839  223.856494\n",
       "60  2017    M02     208.88694  242.11322  210.30998      243.603  224.512558\n",
       "59  2017    M03     208.97020  242.93088  210.21002      243.801  224.889670\n",
       "58  2017    M04     209.93280  243.06876  211.41622      244.524  225.531362\n",
       "57  2017    M05     209.55050  243.11050  211.49284      244.733  225.454262"
      ]
     },
     "execution_count": 543,
     "metadata": {},
     "output_type": "execute_result"
    }
   ],
   "source": [
    "combined.head()"
   ]
  },
  {
   "cell_type": "code",
   "execution_count": 544,
   "id": "fbe50076-e180-4777-aaae-01ee518465ee",
   "metadata": {},
   "outputs": [
    {
     "data": {
      "text/plain": [
       "<AxesSubplot:xlabel='year'>"
      ]
     },
     "execution_count": 544,
     "metadata": {},
     "output_type": "execute_result"
    },
    {
     "data": {
      "image/png": "[encoded data removed]",
      "text/plain": [
       "<Figure size 432x288 with 1 Axes>"
      ]
     },
     "metadata": {
      "needs_background": "light"
     },
     "output_type": "display_data"
    }
   ],
   "source": [
    "ax = plt.gca()\n",
    "combined.plot(kind='line',x='year',y='philadelphia',ax=ax)\n",
    "combined.plot(kind='line',x='year',y='new_york', color='red', ax=ax)\n",
    "combined.plot(kind='line',x='year',y='chicago', color='green', ax=ax)\n",
    "combined.plot(kind='line',x='year',y='averageCPI', color='black', ax=ax)\n",
    "combined.plot(kind='line',x='year',y='nationalCPI', color='orange', ax=ax)"
   ]
  }
 ],
 "metadata": {
  "kernelspec": {
   "display_name": "Python 3",
   "language": "python",
   "name": "python3"
  },
  "language_info": {
   "codemirror_mode": {
    "name": "ipython",
    "version": 3
   },
   "file_extension": ".py",
   "mimetype": "text/x-python",
   "name": "python",
   "nbconvert_exporter": "python",
   "pygments_lexer": "ipython3",
   "version": "3.8.8"
  }
 },
 "nbformat": 4,
 "nbformat_minor": 5
}
